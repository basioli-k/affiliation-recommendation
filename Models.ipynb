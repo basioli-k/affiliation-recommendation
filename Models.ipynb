{
 "cells": [
  {
   "cell_type": "code",
   "execution_count": null,
   "metadata": {},
   "outputs": [],
   "source": [
    "import numpy as np\n",
    "import scipy\n",
    "from scipy.sparse import csc_matrix, bmat, load_npz\n",
    "from scipy.sparse.linalg import svds\n",
    "import matplotlib.pyplot as plt\n",
    "from tqdm import tqdm\n",
    "import random"
   ]
  },
  {
   "cell_type": "markdown",
   "metadata": {},
   "source": [
    "## Load Data"
   ]
  },
  {
   "cell_type": "code",
   "execution_count": null,
   "metadata": {},
   "outputs": [],
   "source": [
    "s = load_npz(\"data/yt_s.npz\")\n",
    "a_train = load_npz(\"data/yt_a_train.npz\")\n",
    "a_test = load_npz(\"data/yt_a_test.npz\")\n",
    "a_val = load_npz(\"data/yt_a_val.npz\")\n",
    "n_groups = a_train.shape[1]\n",
    "n_users = s.shape[0]"
   ]
  },
  {
   "cell_type": "code",
   "execution_count": null,
   "metadata": {},
   "outputs": [],
   "source": [
    "def prepare_train_data(alpha, s, a_train, a_val):\n",
    "    c_train = bmat([[alpha*s, a_train], [a_train.transpose(), None]])\n",
    "    c_val = bmat([[alpha*s, a_val], [a_val.transpose(), None]])\n",
    "    #c_test = bmat([[alpha*s, a_test], [a_test.transpose(), None]])    \n",
    "    return c_train, c_val"
   ]
  },
  {
   "cell_type": "markdown",
   "metadata": {},
   "source": [
    "## SVD"
   ]
  },
  {
   "cell_type": "code",
   "execution_count": null,
   "metadata": {},
   "outputs": [],
   "source": [
    "\"vrati listu (za k = 1:n) precisiona i recalla na testu za jednog usera\"\n",
    "def evaluate_latent_factor_user(i, n, u, sig, vt, c_train, c_val, n_groups):\n",
    "    \"i = user za kojeg generiramo recommendatione\"\n",
    "    score = (u[i,:]@np.diag(sig)@vt)[-n_groups:]\n",
    "    true_labels = c_val.getrow(i).toarray().flatten()[-n_groups:]\n",
    "    train_labels = c_train.getrow(i).toarray().flatten()[-n_groups:]\n",
    "    score = np.multiply(score, np.logical_not(train_labels))\n",
    "    score_index = np.flip(np.argsort(score))\n",
    "    positives = np.sum(true_labels)\n",
    "    negatives = n_groups - positives\n",
    "    user_i_stats = []\n",
    "    for predictions in range(1, n+1):\n",
    "        recommendations = score_index[:predictions]\n",
    "        true_positives = np.sum(true_labels[recommendations] == 1)\n",
    "        true_negatives = negatives - (predictions - true_positives)\n",
    "        precision = true_positives/predictions\n",
    "        sensitivity = true_positives/positives if positives != 0 else 1\n",
    "        specificity = true_negatives/negatives\n",
    "        user_i_stats.append((precision, sensitivity, specificity))\n",
    "    return user_i_stats"
   ]
  },
  {
   "cell_type": "code",
   "execution_count": null,
   "metadata": {},
   "outputs": [],
   "source": [
    "def evaluate_latent_factors(u, sig, vt, c_train, c_val, n_users, n_groups):\n",
    "    stats = []\n",
    "    for i in tqdm(range(n_users)):\n",
    "        stats.append(evaluate_latent_factor_user(i, 100, u, sig, vt, c_train, c_val, n_groups))\n",
    "    \"stats mi je lista duljine broj usera, svaki element je lista duljine n koja sadrzi tupleove oblika (pr, se, sp)\"\n",
    "    pr_se_sp = []\n",
    "    \"pr_se_sp ce biti lista tupleova duljine n, tuple je oblika (mean_pr, mean_se, mean_sp) gdje je prosjek uzet po userima\"\n",
    "    for n in zip(*stats):\n",
    "        pr_se_sp.append((np.mean([i for i,j,k in n]), np.mean([j for i,j,k in n]), np.mean([k for i,j,k in n])))\n",
    "    \"pss ce biti numpy array dimenzija n x 3, svaki stupac odgovara jednom od (pr, se, sp)\"\n",
    "    pss = np.array(pr_se_sp)\n",
    "    return pss[:,0], pss[:,1], pss[:,2]"
   ]
  },
  {
   "cell_type": "code",
   "execution_count": null,
   "metadata": {},
   "outputs": [],
   "source": [
    "def get_score(precision, sensitivity, specificity):\n",
    "    x=[(1-spec) for spec in specificity]\n",
    "    area = np.trapz(y=sensitivity, x=x)\n",
    "    return abs(area)"
   ]
  },
  {
   "cell_type": "code",
   "execution_count": null,
   "metadata": {},
   "outputs": [],
   "source": [
    "def latent_factors_model(alpha, svd_rank, s, a_train, a_val, n_users, n_groups):\n",
    "    c_train, c_val = prepare_train_data(alpha, s, a_train, a_val)\n",
    "    c_train = c_train.astype(np.float64)\n",
    "    c_val = c_val.astype(np.float64)\n",
    "    u, sig, vt = svds(c_train, k = svd_rank)\n",
    "    precision, sensitivity, specificity = evaluate_latent_factors(u, sig, vt, c_train, c_val, n_users, n_groups)\n",
    "    score = get_score(precision, sensitivity, specificity)\n",
    "    return {\"alpha\" : alpha, \"svd_rank\" : svd_rank, \"score\" : score, \"precision\" : precision, \"sensitivity\" : sensitivity, \"specificity\" : specificity}"
   ]
  },
  {
   "cell_type": "code",
   "execution_count": null,
   "metadata": {},
   "outputs": [],
   "source": [
    "def validate_latent_factor_model(alphas, svd_ranks, s, a_train, a_val, n_users, n_groups):\n",
    "    validation_scores = []\n",
    "    for alpha in alphas:\n",
    "        for svd_rank in svd_ranks:\n",
    "            validation_scores.append(latent_factors_model(alpha, svd_rank, s, a_train, a_val, n_users, n_groups))\n",
    "    return validation_scores"
   ]
  },
  {
   "cell_type": "code",
   "execution_count": null,
   "metadata": {},
   "outputs": [],
   "source": [
    "alphas = [3]\n",
    "svd_ranks = [10]"
   ]
  },
  {
   "cell_type": "code",
   "execution_count": null,
   "metadata": {},
   "outputs": [],
   "source": [
    "validation_scores = validate_latent_factor_model(alphas, svd_ranks, s, a_train, a_val, n_users, n_groups)"
   ]
  },
  {
   "cell_type": "code",
   "execution_count": null,
   "metadata": {},
   "outputs": [],
   "source": [
    "validation_scores"
   ]
  },
  {
   "cell_type": "markdown",
   "metadata": {},
   "source": [
    "## Katz"
   ]
  },
  {
   "cell_type": "code",
   "execution_count": null,
   "metadata": {},
   "outputs": [],
   "source": [
    "def katz(t, beta, k):\n",
    "    katz = beta*t\n",
    "    a = beta*t\n",
    "    for i in range(k-1):\n",
    "        a = beta*a@t\n",
    "        katz = katz + a\n",
    "    return katz"
   ]
  },
  {
   "cell_type": "code",
   "execution_count": null,
   "metadata": {},
   "outputs": [],
   "source": [
    "def katz_2(t, beta, k):\n",
    "    t = t.astype(np.float64)\n",
    "    u, s, vt = svds(t, k=3)\n",
    "    s = np.diag(s)\n",
    "    \n",
    "    vtu = vt@u\n",
    "    svtu = s@vtu\n",
    "    \n",
    "    katz = beta*s\n",
    "    #a = beta*svtu\n",
    "    small_matrix = beta * s @ vtu\n",
    "    for i in range(k-1):\n",
    "        small_matrix = beta * small_matrix @ s\n",
    "        katz = katz + small_matrix\n",
    "        small_matrix = small_matrix @ vtu\n",
    "    katz = u @ katz @ vt\n",
    "    return katz"
   ]
  }
 ],
 "metadata": {
  "kernelspec": {
   "display_name": "Python 3 (ipykernel)",
   "language": "python",
   "name": "python3"
  },
  "language_info": {
   "codemirror_mode": {
    "name": "ipython",
    "version": 3
   },
   "file_extension": ".py",
   "mimetype": "text/x-python",
   "name": "python",
   "nbconvert_exporter": "python",
   "pygments_lexer": "ipython3",
   "version": "3.9.9"
  }
 },
 "nbformat": 4,
 "nbformat_minor": 4
}
