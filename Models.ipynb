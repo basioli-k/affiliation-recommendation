{
 "cells": [
  {
   "cell_type": "code",
   "execution_count": 1,
   "metadata": {},
   "outputs": [],
   "source": [
    "import numpy as np\n",
    "import scipy\n",
    "from scipy.sparse import csc_matrix, bmat, load_npz, csr_matrix\n",
    "from scipy.sparse.linalg import svds\n",
    "import matplotlib.pyplot as plt\n",
    "from tqdm import tqdm\n",
    "import random\n",
    "import implicit\n",
    "from pathlib import Path\n",
    "import re"
   ]
  },
  {
   "cell_type": "markdown",
   "metadata": {},
   "source": [
    "## Load Data"
   ]
  },
  {
   "cell_type": "code",
   "execution_count": 2,
   "metadata": {},
   "outputs": [],
   "source": [
    "s = load_npz(\"data/yt_s.npz\")\n",
    "a_train = load_npz(\"data/yt_a_train.npz\")\n",
    "a_test = load_npz(\"data/yt_a_test.npz\")\n",
    "a_val = load_npz(\"data/yt_a_val.npz\")\n",
    "n_groups = a_train.shape[1]\n",
    "n_users = s.shape[0]"
   ]
  },
  {
   "cell_type": "code",
   "execution_count": 3,
   "metadata": {},
   "outputs": [],
   "source": [
    "def prepare_train_data(alpha, s, a_train, a_val):\n",
    "    c_train = bmat([[alpha*s, a_train], [a_train.transpose(), None]])\n",
    "    c_val = bmat([[alpha*s, a_val], [a_val.transpose(), None]])\n",
    "    #c_test = bmat([[alpha*s, a_test], [a_test.transpose(), None]])    \n",
    "    return c_train.astype(np.float64), c_val.astype(np.float64)"
   ]
  },
  {
   "cell_type": "markdown",
   "metadata": {},
   "source": [
    "## SVD"
   ]
  },
  {
   "cell_type": "code",
   "execution_count": 4,
   "metadata": {},
   "outputs": [],
   "source": [
    "def svd_get_recs(i, model, train_labels, n_groups):\n",
    "        u, sig, vt = model\n",
    "        score = (u[i,:]@np.diag(sig)@vt)[-n_groups:]\n",
    "        score = np.multiply(score, np.logical_not(train_labels))\n",
    "        score_index = np.flip(np.argsort(score))\n",
    "        return score_index"
   ]
  },
  {
   "cell_type": "code",
   "execution_count": 5,
   "metadata": {},
   "outputs": [],
   "source": [
    "\"vrati listu (za k = 1:n) precisiona i recalla na testu za jednog usera\"\n",
    "def evaluate_model_user(i, n, model, c_train, c_val, n_groups, model_type):\n",
    "    \"i = user za kojeg generiramo recommendatione\"\n",
    "    true_labels = c_val.getrow(i).toarray().flatten()[-n_groups:]\n",
    "    train_labels = c_train.getrow(i).toarray().flatten()[-n_groups:]\n",
    "    \n",
    "    \"tu se dodaju novi modeli\"\n",
    "    if model_type == \"SVD\":\n",
    "        score_index = svd_get_recs(i, model, train_labels, n_groups)\n",
    "    elif model_type == \"ALS\":\n",
    "        score_index = als_get_recs(i, n, model, c_train, n_groups)\n",
    "    elif model_type == \"random_katz\":\n",
    "        score_index = rand_katz_get_recs(i, n, model, train_labels, n_groups)\n",
    "    else:\n",
    "        assert False\n",
    "        \n",
    "    positives = np.sum(true_labels)\n",
    "    negatives = n_groups - positives\n",
    "    user_i_stats = []\n",
    "    for predictions in range(1, n+1):\n",
    "        recommendations = score_index[:predictions]\n",
    "        true_positives = np.sum(true_labels[recommendations] == 1)\n",
    "        true_negatives = negatives - (predictions - true_positives)\n",
    "        precision = true_positives/predictions\n",
    "        sensitivity = true_positives/positives if positives != 0 else 1\n",
    "        specificity = true_negatives/negatives\n",
    "        user_i_stats.append((precision, sensitivity, specificity))\n",
    "    return user_i_stats"
   ]
  },
  {
   "cell_type": "code",
   "execution_count": 6,
   "metadata": {},
   "outputs": [],
   "source": [
    "def evaluate_model(model, c_train, c_val, n_users, n_groups, model_type):\n",
    "    stats = []\n",
    "    for i in tqdm(range(n_users)):\n",
    "            if np.sum(c_val.getrow(i).toarray().flatten()[-n_groups:]) != 0:\n",
    "                stats.append(evaluate_model_user(i, 50, model, c_train, c_val, n_groups, model_type))\n",
    "    \"stats mi je lista duljine broj usera, svaki element je lista duljine n koja sadrzi tupleove oblika (pr, se, sp)\"\n",
    "    pr_se_sp = []\n",
    "    \"pr_se_sp ce biti lista tupleova duljine n, tuple je oblika (mean_pr, mean_se, mean_sp) gdje je prosjek uzet po userima\"\n",
    "    for n in zip(*stats):\n",
    "        pr_se_sp.append((np.mean([i for i,j,k in n]), np.mean([j for i,j,k in n]), np.mean([k for i,j,k in n])))\n",
    "    \"pss ce biti numpy array dimenzija n x 3, svaki stupac odgovara jednom od (pr, se, sp)\"\n",
    "    pss = np.array(pr_se_sp)\n",
    "    return pss[:,0], pss[:,1], pss[:,2]"
   ]
  },
  {
   "cell_type": "code",
   "execution_count": 7,
   "metadata": {},
   "outputs": [],
   "source": [
    "def get_score(precision, sensitivity, specificity):\n",
    "    x=[(1-spec) for spec in specificity]\n",
    "    area = np.trapz(y=sensitivity, x=x)\n",
    "    return abs(area)"
   ]
  },
  {
   "cell_type": "code",
   "execution_count": 8,
   "metadata": {},
   "outputs": [],
   "source": [
    "def svd_model(alpha, svd_rank, s, a_train, a_val, n_users, n_groups):\n",
    "    c_train, c_val = prepare_train_data(alpha, s, a_train, a_val)\n",
    "    model = svds(c_train, k = svd_rank)\n",
    "    precision, sensitivity, specificity = evaluate_model(model, c_train, c_val, n_users, n_groups, model_type = \"SVD\")\n",
    "    score = get_score(precision, sensitivity, specificity)\n",
    "    return {\"alpha\" : alpha, \"svd_rank\" : svd_rank, \"score\" : score, \"precision\" : precision, \"sensitivity\" : sensitivity, \"specificity\" : specificity}"
   ]
  },
  {
   "cell_type": "code",
   "execution_count": 9,
   "metadata": {},
   "outputs": [],
   "source": [
    "def validate_svd_model(alphas, svd_ranks, s, a_train, a_val, n_users, n_groups):\n",
    "    validation_scores = []\n",
    "    for alpha in alphas:\n",
    "        for svd_rank in svd_ranks:\n",
    "            validation_scores.append(svd_model(alpha, svd_rank, s, a_train, a_val, n_users, n_groups))\n",
    "    return validation_scores"
   ]
  },
  {
   "cell_type": "code",
   "execution_count": 10,
   "metadata": {},
   "outputs": [],
   "source": [
    "alphas = [3]\n",
    "svd_ranks = [10]"
   ]
  },
  {
   "cell_type": "code",
   "execution_count": null,
   "metadata": {},
   "outputs": [],
   "source": [
    "validation_scores_svd = validate_svd_model(alphas, svd_ranks, s, a_train, a_val, n_users, n_groups)"
   ]
  },
  {
   "cell_type": "code",
   "execution_count": null,
   "metadata": {},
   "outputs": [],
   "source": [
    "validation_scores_svd"
   ]
  },
  {
   "cell_type": "code",
   "execution_count": null,
   "metadata": {},
   "outputs": [],
   "source": [
    "plt.plot(1 - validation_scores_svd[0][\"specificity\"], validation_scores_svd[0][\"sensitivity\"])"
   ]
  },
  {
   "cell_type": "markdown",
   "metadata": {},
   "source": [
    "## EVALUACIJA GENERALNO"
   ]
  },
  {
   "cell_type": "code",
   "execution_count": null,
   "metadata": {},
   "outputs": [],
   "source": [
    "\"treba u evaluate_model_user za svaki model dodati granu u if-u u funkciji evaluate_model_user u kojoj se napravi score_index\"\n",
    "\"score_index je lista/np.array koji sadrži indekse grupa sortirane po scoreu koji model daje, dakle sortirana lista grupa za recommendat\"\n",
    "\"ideja je da se dotad sve sto ti treba za evaluirati model prenosi u varijabli model, a onda unutar tog ifa se pozove neka funkcija koja evaluira\"\n",
    "\"za validaciju i kreiranje modela predlazem da se rade posebne funkcije za svaki jer nije bas zgodno napravit generalno, mogu biti po uzoru na ove\"\n",
    "#precision, sensitivity, specificity = evaluate_model(model, c_train, c_val, n_users, n_groups, model_type = \"SVD\")\n",
    "#score = get_score(precision, sensitivity, specificity)\n",
    "\"dole primjer za als - 3 modificirane funkcije i onda se samo pozove - nije bas savrseno al mislim da ce bit skroz ok za nasih par modela\""
   ]
  },
  {
   "cell_type": "markdown",
   "metadata": {},
   "source": [
    "## ALS"
   ]
  },
  {
   "cell_type": "code",
   "execution_count": 11,
   "metadata": {},
   "outputs": [],
   "source": [
    "def als_get_recs(i, n, model, c_train, n_groups):\n",
    "    recs = model.recommend(i, user_items = csr_matrix(c_train), N = n, filter_already_liked_items = True, filter_items = [j for j in range(c_train.shape[0]-n_groups)])\n",
    "    indices = [rec[0]-n_users for rec in recs]\n",
    "    scores = [rec[1] for rec in recs]\n",
    "    score = np.zeros(n_groups)\n",
    "    score[indices] = scores\n",
    "    score_index = np.flip(np.argsort(score))\n",
    "    return score_index"
   ]
  },
  {
   "cell_type": "code",
   "execution_count": 16,
   "metadata": {},
   "outputs": [],
   "source": [
    "def als_model(alpha, n_factors, s, a_train, a_val, n_users, n_groups):\n",
    "    c_train, c_val = prepare_train_data(alpha, s, a_train, a_val)\n",
    "    model = implicit.als.AlternatingLeastSquares(factors = n_factors, regularization = 2)\n",
    "    model.fit(c_train)    \n",
    "    precision, sensitivity, specificity = evaluate_model(model, c_train, c_val, n_users, n_groups, model_type = \"ALS\")\n",
    "    score = get_score(precision, sensitivity, specificity)\n",
    "    return {\"alpha\" : alpha, \"n_factors\" : n_factors, \"score\" : score, \"precision\" : precision, \"sensitivity\" : sensitivity, \"specificity\" : specificity}"
   ]
  },
  {
   "cell_type": "code",
   "execution_count": 17,
   "metadata": {},
   "outputs": [],
   "source": [
    "def validate_als_model(alphas, n_factors, s, a_train, a_val, n_users, n_groups):\n",
    "    validation_scores = []\n",
    "    for alpha in alphas:\n",
    "        for nf in n_factors:\n",
    "            validation_scores.append(als_model(alpha, nf, s, a_train, a_val, n_users, n_groups))\n",
    "    return validation_scores"
   ]
  },
  {
   "cell_type": "code",
   "execution_count": 18,
   "metadata": {},
   "outputs": [],
   "source": [
    "alphas = [3]\n",
    "n_factors = [10]"
   ]
  },
  {
   "cell_type": "code",
   "execution_count": 19,
   "metadata": {},
   "outputs": [
    {
     "data": {
      "application/vnd.jupyter.widget-view+json": {
       "model_id": "260319f13bd248af8ccd83fdf8a0636a",
       "version_major": 2,
       "version_minor": 0
      },
      "text/plain": [
       "HBox(children=(HTML(value=''), FloatProgress(value=0.0, max=15.0), HTML(value='')))"
      ]
     },
     "metadata": {},
     "output_type": "display_data"
    },
    {
     "name": "stderr",
     "output_type": "stream",
     "text": [
      "  0%|          | 4/10000 [00:00<05:03, 32.95it/s]"
     ]
    },
    {
     "name": "stdout",
     "output_type": "stream",
     "text": [
      "\n"
     ]
    },
    {
     "name": "stderr",
     "output_type": "stream",
     "text": [
      "100%|██████████| 10000/10000 [03:30<00:00, 47.40it/s]\n"
     ]
    }
   ],
   "source": [
    "validation_scores_als = validate_als_model(alphas, n_factors, s, a_train, a_val, n_users, n_groups)"
   ]
  },
  {
   "cell_type": "code",
   "execution_count": 20,
   "metadata": {},
   "outputs": [
    {
     "data": {
      "text/plain": [
       "[{'alpha': 3,\n",
       "  'n_factors': 10,\n",
       "  'score': 0.0008162966465115052,\n",
       "  'precision': array([0.08418642, 0.06458782, 0.05374461, 0.04727909, 0.04197198,\n",
       "         0.03829921, 0.03561807, 0.03353987, 0.0316092 , 0.02974138,\n",
       "         0.02843358, 0.0270519 , 0.02601749, 0.02498653, 0.02407507,\n",
       "         0.02322703, 0.02258969, 0.02193337, 0.02126106, 0.02066945,\n",
       "         0.02010211, 0.01956799, 0.01902174, 0.01859397, 0.01817349,\n",
       "         0.01776463, 0.01733617, 0.0169816 , 0.01659576, 0.01624012,\n",
       "         0.01595088, 0.01565026, 0.01534744, 0.01509413, 0.01482836,\n",
       "         0.01458483, 0.01431806, 0.01406534, 0.01382212, 0.01356748,\n",
       "         0.01332856, 0.01311384, 0.01291537, 0.01267388, 0.01251497,\n",
       "         0.01230732, 0.01213717, 0.0119657 , 0.01177648, 0.01158136]),\n",
       "  'sensitivity': array([0.05744782, 0.08653701, 0.10492706, 0.12049146, 0.13174996,\n",
       "         0.14234328, 0.15206338, 0.16182704, 0.16987926, 0.17639284,\n",
       "         0.18458203, 0.19104648, 0.19716164, 0.20268339, 0.20813678,\n",
       "         0.21367618, 0.21976689, 0.22436598, 0.22911018, 0.23426995,\n",
       "         0.23812293, 0.24164699, 0.24552966, 0.24953711, 0.25311534,\n",
       "         0.2569625 , 0.26030429, 0.26361964, 0.26651964, 0.26907736,\n",
       "         0.27344135, 0.27652346, 0.27910942, 0.28237074, 0.28484075,\n",
       "         0.28770827, 0.29040713, 0.29264021, 0.29481715, 0.29627602,\n",
       "         0.29802819, 0.30021276, 0.3026201 , 0.30379385, 0.30678086,\n",
       "         0.30827364, 0.31067568, 0.31243003, 0.31363536, 0.3143872 ]),\n",
       "  'specificity': array([0.99993556, 0.99986836, 0.99980026, 0.99973185, 0.99966295,\n",
       "         0.99959399, 0.999525  , 0.99945597, 0.99938675, 0.99931729,\n",
       "         0.99924801, 0.99917848, 0.99910908, 0.99903953, 0.99896996,\n",
       "         0.99890034, 0.99883085, 0.99876124, 0.99869152, 0.99862182,\n",
       "         0.99855207, 0.9984823 , 0.99841243, 0.99834268, 0.99827289,\n",
       "         0.99820305, 0.99813313, 0.99806328, 0.99799333, 0.99792338,\n",
       "         0.99785353, 0.99778361, 0.99771365, 0.99764376, 0.9975738 ,\n",
       "         0.99750386, 0.99743383, 0.9973638 , 0.99729376, 0.99722365,\n",
       "         0.99715355, 0.99708349, 0.99701345, 0.99694325, 0.99687327,\n",
       "         0.99680312, 0.99673306, 0.99666297, 0.9965928 , 0.99652258])}]"
      ]
     },
     "execution_count": 20,
     "metadata": {},
     "output_type": "execute_result"
    }
   ],
   "source": [
    "validation_scores_als"
   ]
  },
  {
   "cell_type": "code",
   "execution_count": 21,
   "metadata": {},
   "outputs": [
    {
     "data": {
      "text/plain": [
       "[<matplotlib.lines.Line2D at 0x7fcb1ca543a0>]"
      ]
     },
     "execution_count": 21,
     "metadata": {},
     "output_type": "execute_result"
    },
    {
     "data": {
      "image/png": "[encoded data removed]",
      "text/plain": [
       "<Figure size 432x288 with 1 Axes>"
      ]
     },
     "metadata": {
      "needs_background": "light"
     },
     "output_type": "display_data"
    }
   ],
   "source": [
    "plt.plot(1 - validation_scores_als[0][\"specificity\"], validation_scores_als[0][\"sensitivity\"])"
   ]
  },
  {
   "cell_type": "markdown",
   "metadata": {},
   "source": [
    "## Katz"
   ]
  },
  {
   "cell_type": "code",
   "execution_count": null,
   "metadata": {},
   "outputs": [],
   "source": [
    "def katz(t, beta, k):\n",
    "    katz = beta*t\n",
    "    a = beta*t\n",
    "    for i in range(k-1):\n",
    "        a = beta*a@t\n",
    "        katz = katz + a\n",
    "    return katz"
   ]
  },
  {
   "cell_type": "code",
   "execution_count": null,
   "metadata": {},
   "outputs": [],
   "source": [
    "def katz_2(t, beta, k):\n",
    "    t = t.astype(np.float64)\n",
    "    u, s, vt = svds(t, k=3)\n",
    "    s = np.diag(s)\n",
    "    \n",
    "    vtu = vt@u\n",
    "    svtu = s@vtu\n",
    "    \n",
    "    katz = beta*s\n",
    "    #a = beta*svtu\n",
    "    small_matrix = beta * s @ vtu\n",
    "    for i in range(k-1):\n",
    "        small_matrix = beta * small_matrix @ s\n",
    "        katz = katz + small_matrix\n",
    "        small_matrix = small_matrix @ vtu\n",
    "    katz = u @ katz @ vt\n",
    "    return katz"
   ]
  },
  {
   "cell_type": "markdown",
   "metadata": {},
   "source": [
    "## Random Katz"
   ]
  },
  {
   "cell_type": "code",
   "execution_count": null,
   "metadata": {},
   "outputs": [],
   "source": [
    "def rand_katz_get_recs(i, n, model, train_labels, n_groups):\n",
    "    recs = model[i]\n",
    "    score = np.multiply(recs, np.logical_not(train_labels))\n",
    "    score_index = np.flip(np.argsort(score))\n",
    "    return score_index"
   ]
  },
  {
   "cell_type": "code",
   "execution_count": null,
   "metadata": {},
   "outputs": [],
   "source": [
    "import struct\n",
    "\n",
    "def read_results_from_bin(bin_file_path, n_groups):\n",
    "    # format is uint32, uint32, double\n",
    "    fmt = \"IId\"\n",
    "    record_len = struct.calcsize(fmt)\n",
    "    unpack = struct.Struct(fmt).unpack_from\n",
    "    result = {}\n",
    "    with open(bin_file_path, \"rb\") as file:\n",
    "        data = file.read(record_len)\n",
    "        while data:\n",
    "            user, group, score = unpack(data)\n",
    "            if user not in result:\n",
    "                result[user] = np.zeros(n_groups)\n",
    "            result[user][group-1] = score\n",
    "            data = file.read(record_len)\n",
    "    return result"
   ]
  },
  {
   "cell_type": "code",
   "execution_count": null,
   "metadata": {},
   "outputs": [],
   "source": [
    "def random_katz_model(file, s, a_train, a_val, n_users, n_groups):\n",
    "    model = read_results_from_bin(str(file), n_groups)   #model je izracunat vec u nekom c++ kodu, ovdje samo učitaom file\n",
    "    c_train, c_val = prepare_train_data(1, s, a_train, a_val)\n",
    "    precision, sensitivity, specificity = evaluate_model(model, c_train, c_val, n_users, n_groups, model_type = \"random_katz\")\n",
    "    score = get_score(precision, sensitivity, specificity)\n",
    "    path_len, iterations = tuple(int(s) for s in re.findall(r'\\d+', str(file)))       # cisto da imamo podatke o duljini puta i broju iteracija u ovom modelu\n",
    "    return {\"iterations\": iterations, \"path_len\": path_len, \"score\": score, \"precision\": precision, \"sensitivity\": sensitivity, \"specificity\": specificity}"
   ]
  },
  {
   "cell_type": "code",
   "execution_count": null,
   "metadata": {},
   "outputs": [],
   "source": [
    "def validate_random_katz_model(s, a_train, a_val, n_users, n_groups):\n",
    "    validation_scores = []\n",
    "    for file in Path(\"data/random_katz/results/\").iterdir():\n",
    "        # ime filea je recs_{duljina_puta}_{broj_iteracija}\n",
    "        validation_scores.append(random_katz_model(file, s, a_train, a_val, n_users, n_groups))\n",
    "    return validation_scores"
   ]
  },
  {
   "cell_type": "code",
   "execution_count": null,
   "metadata": {},
   "outputs": [],
   "source": [
    "%%time\n",
    "\n",
    "rand_katz_validation_scores = validate_random_katz_model(s, a_train, a_val, n_users, n_groups)"
   ]
  },
  {
   "cell_type": "code",
   "execution_count": null,
   "metadata": {},
   "outputs": [],
   "source": [
    "for val_score in rand_katz_validation_scores:\n",
    "    plt.plot(1 - val_score[\"specificity\"], val_score[\"sensitivity\"])"
   ]
  },
  {
   "cell_type": "code",
   "execution_count": null,
   "metadata": {},
   "outputs": [],
   "source": [
    "rand_katz_validation_scores[0]"
   ]
  }
 ],
 "metadata": {
  "kernelspec": {
   "display_name": "Python 3",
   "language": "python",
   "name": "python3"
  },
  "language_info": {
   "codemirror_mode": {
    "name": "ipython",
    "version": 3
   },
   "file_extension": ".py",
   "mimetype": "text/x-python",
   "name": "python",
   "nbconvert_exporter": "python",
   "pygments_lexer": "ipython3",
   "version": "3.8.5"
  }
 },
 "nbformat": 4,
 "nbformat_minor": 4
}
