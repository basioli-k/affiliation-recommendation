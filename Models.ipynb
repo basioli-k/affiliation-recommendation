{
 "cells": [
  {
   "cell_type": "code",
   "execution_count": null,
   "metadata": {},
   "outputs": [],
   "source": [
    "import numpy as np\n",
    "import scipy\n",
    "import scipy.linalg as linalg\n",
    "from scipy.sparse import csc_matrix, bmat, load_npz, csr_matrix\n",
    "from scipy.sparse.linalg import svds, eigsh\n",
    "import matplotlib.pyplot as plt\n",
    "from tqdm import tqdm\n",
    "import random\n",
    "import implicit\n",
    "from pathlib import Path\n",
    "import re*-"
   ]
  },
  {
   "cell_type": "markdown",
   "metadata": {},
   "source": [
    "## Load Data"
   ]
  },
  {
   "cell_type": "code",
   "execution_count": null,
   "metadata": {},
   "outputs": [],
   "source": [
    "s = load_npz(\"data/yt_s.npz\")\n",
    "a_train = load_npz(\"data/yt_a_train.npz\")\n",
    "a_test = load_npz(\"data/yt_a_test.npz\")\n",
    "a_val = load_npz(\"data/yt_a_val.npz\")\n",
    "n_groups = a_train.shape[1]\n",
    "n_users = s.shape[0]"
   ]
  },
  {
   "cell_type": "code",
   "execution_count": null,
   "metadata": {},
   "outputs": [],
   "source": [
    "def prepare_train_data(alpha, s, a_train, a_val):\n",
    "    c_train = bmat([[alpha*s, a_train], [a_train.transpose(), None]])\n",
    "    c_val = bmat([[alpha*s, a_val], [a_val.transpose(), None]])\n",
    "    #c_test = bmat([[alpha*s, a_test], [a_test.transpose(), None]])    \n",
    "    return c_train.astype(np.float64), c_val.astype(np.float64)"
   ]
  },
  {
   "cell_type": "code",
   "execution_count": 84,
   "metadata": {},
   "outputs": [
    {
     "data": {
      "text/plain": [
       "(16398, 20663)"
      ]
     },
     "execution_count": 84,
     "metadata": {},
     "output_type": "execute_result"
    }
   ],
   "source": [
    "n_users, n_groups"
   ]
  },
  {
   "cell_type": "code",
   "execution_count": 85,
   "metadata": {},
   "outputs": [
    {
     "data": {
      "text/plain": [
       "<16398x20663 sparse matrix of type '<class 'numpy.float64'>'\n",
       "\twith 31157 stored elements in Compressed Sparse Column format>"
      ]
     },
     "execution_count": 85,
     "metadata": {},
     "output_type": "execute_result"
    }
   ],
   "source": [
    "a_val"
   ]
  },
  {
   "cell_type": "code",
   "execution_count": 86,
   "metadata": {},
   "outputs": [
    {
     "data": {
      "text/plain": [
       "<16398x20663 sparse matrix of type '<class 'numpy.float64'>'\n",
       "\twith 15947 stored elements in Compressed Sparse Column format>"
      ]
     },
     "execution_count": 86,
     "metadata": {},
     "output_type": "execute_result"
    }
   ],
   "source": [
    "a_test"
   ]
  },
  {
   "cell_type": "code",
   "execution_count": 87,
   "metadata": {},
   "outputs": [
    {
     "data": {
      "text/plain": [
       "<16398x20663 sparse matrix of type '<class 'numpy.float64'>'\n",
       "\twith 130036 stored elements in Compressed Sparse Column format>"
      ]
     },
     "execution_count": 87,
     "metadata": {},
     "output_type": "execute_result"
    }
   ],
   "source": [
    "a_train"
   ]
  },
  {
   "cell_type": "markdown",
   "metadata": {},
   "source": [
    "## SVD"
   ]
  },
  {
   "cell_type": "code",
   "execution_count": null,
   "metadata": {},
   "outputs": [],
   "source": [
    "def svd_get_recs(i, model, train_labels, n_groups):\n",
    "        u, sig, vt = model\n",
    "        score = (u[i,:]@np.diag(sig)@vt)[-n_groups:]\n",
    "        score = np.multiply(score, np.logical_not(train_labels))\n",
    "        score_index = np.flip(np.argsort(score))\n",
    "        return score_index"
   ]
  },
  {
   "cell_type": "code",
   "execution_count": null,
   "metadata": {},
   "outputs": [],
   "source": [
    "\"vrati listu (za k = 1:n) precisiona i recalla na testu za jednog usera\"\n",
    "def evaluate_model_user(i, n, model, c_train, c_val, n_groups, model_type):\n",
    "    \"i = user za kojeg generiramo recommendatione\"\n",
    "    true_labels = c_val.getrow(i).toarray().flatten()[-n_groups:]\n",
    "    train_labels = c_train.getrow(i).toarray().flatten()[-n_groups:]\n",
    "    \n",
    "    \"tu se dodaju novi modeli\"\n",
    "    if model_type == \"SVD\":\n",
    "        score_index = svd_get_recs(i, model, train_labels, n_groups)\n",
    "    elif model_type == \"ALS\":\n",
    "        score_index = als_get_recs(i, n, model, c_train, n_groups)\n",
    "    elif model_type == \"random_katz\":\n",
    "        score_index = rand_katz_get_recs(i, n, model, train_labels, n_groups)\n",
    "    elif model_type == \"perfect_model\":\n",
    "        score_index = np.flip(np.argsort(true_labels))\n",
    "    elif model_type == \"katz\":\n",
    "        score_index = katz_get_recs(i,model, train_labels, n_groups)\n",
    "    else:\n",
    "        assert False\n",
    "        \n",
    "    positives = np.sum(true_labels)\n",
    "    negatives = n_groups - positives\n",
    "    user_i_stats = []\n",
    "    for predictions in range(1, n+1):\n",
    "        recommendations = score_index[:predictions]\n",
    "        true_positives = np.sum(true_labels[recommendations] == 1)\n",
    "        true_negatives = negatives - (predictions - true_positives)\n",
    "        precision = true_positives/predictions\n",
    "        sensitivity = true_positives/positives\n",
    "        specificity = true_negatives/negatives\n",
    "        user_i_stats.append((precision, sensitivity, specificity))\n",
    "    return user_i_stats"
   ]
  },
  {
   "cell_type": "code",
   "execution_count": null,
   "metadata": {},
   "outputs": [],
   "source": [
    "def evaluate_model(model, c_train, c_val, n_users, n_groups, model_type):\n",
    "    stats = []\n",
    "    for i in tqdm(range(n_users)):\n",
    "            if np.sum(c_val.getrow(i).toarray().flatten()[-n_groups:]) != 0:\n",
    "                stats.append(evaluate_model_user(i, 50, model, c_train, c_val, n_groups, model_type))\n",
    "    \"stats mi je lista duljine broj usera, svaki element je lista duljine n koja sadrzi tupleove oblika (pr, se, sp)\"\n",
    "    pr_se_sp = []\n",
    "    \"pr_se_sp ce biti lista tupleova duljine n, tuple je oblika (mean_pr, mean_se, mean_sp) gdje je prosjek uzet po userima\"\n",
    "    for n in zip(*stats):\n",
    "        pr_se_sp.append((np.mean([i for i,j,k in n]), np.mean([j for i,j,k in n]), np.mean([k for i,j,k in n])))\n",
    "    \"pss ce biti numpy array dimenzija n x 3, svaki stupac odgovara jednom od (pr, se, sp)\"\n",
    "    pss = np.array(pr_se_sp)\n",
    "    return pss[:,0], pss[:,1], pss[:,2]"
   ]
  },
  {
   "cell_type": "code",
   "execution_count": null,
   "metadata": {},
   "outputs": [],
   "source": [
    "def get_score(precision, sensitivity, specificity):\n",
    "    x=[(1-spec) for spec in specificity]\n",
    "    area = np.trapz(y=sensitivity, x=x)\n",
    "    return abs(area)"
   ]
  },
  {
   "cell_type": "code",
   "execution_count": null,
   "metadata": {},
   "outputs": [],
   "source": [
    "def svd_model(alpha, svd_rank, s, a_train, a_val, n_users, n_groups):\n",
    "    c_train, c_val = prepare_train_data(alpha, s, a_train, a_val)\n",
    "    model = svds(c_train, k = svd_rank)\n",
    "    precision, sensitivity, specificity = evaluate_model(model, c_train, c_val, n_users, n_groups, model_type = \"SVD\")\n",
    "    score = get_score(precision, sensitivity, specificity)\n",
    "    return {\"alpha\" : alpha, \"svd_rank\" : svd_rank, \"score\" : score, \"precision\" : precision, \"sensitivity\" : sensitivity, \"specificity\" : specificity}"
   ]
  },
  {
   "cell_type": "code",
   "execution_count": null,
   "metadata": {},
   "outputs": [],
   "source": [
    "def validate_svd_model(alphas, svd_ranks, s, a_train, a_val, n_users, n_groups):\n",
    "    validation_scores = []\n",
    "    for alpha in alphas:\n",
    "        for svd_rank in svd_ranks:\n",
    "            validation_scores.append(svd_model(alpha, svd_rank, s, a_train, a_val, n_users, n_groups))\n",
    "    return validation_scores"
   ]
  },
  {
   "cell_type": "code",
   "execution_count": null,
   "metadata": {},
   "outputs": [],
   "source": [
    "alphas = [2.5]\n",
    "svd_ranks = [700]"
   ]
  },
  {
   "cell_type": "code",
   "execution_count": 95,
   "metadata": {},
   "outputs": [
    {
     "name": "stderr",
     "output_type": "stream",
     "text": [
      "100%|██████████| 16398/16398 [10:15<00:00, 26.64it/s]\n"
     ]
    }
   ],
   "source": [
    "validation_scores_svd = validate_svd_model(alphas, svd_ranks, s, a_train, a_val, n_users, n_groups)"
   ]
  },
  {
   "cell_type": "code",
   "execution_count": 96,
   "metadata": {},
   "outputs": [],
   "source": [
    "validation_scores_svd.sort(key = lambda x : x[\"score\"], reverse = True)"
   ]
  },
  {
   "cell_type": "code",
   "execution_count": 97,
   "metadata": {},
   "outputs": [
    {
     "data": {
      "text/plain": [
       "(2.5, 700)"
      ]
     },
     "execution_count": 97,
     "metadata": {},
     "output_type": "execute_result"
    }
   ],
   "source": [
    "validation_scores_svd[0][\"alpha\"], validation_scores_svd[0][\"svd_rank\"]"
   ]
  },
  {
   "cell_type": "code",
   "execution_count": 98,
   "metadata": {},
   "outputs": [
    {
     "data": {
      "text/plain": [
       "{'alpha': 2.5,\n",
       " 'svd_rank': 700,\n",
       " 'score': 0.0008100968940787177,\n",
       " 'precision': array([0.10983047, 0.08824247, 0.07433833, 0.06587694, 0.06000732,\n",
       "        0.05525064, 0.05122576, 0.04798603, 0.04492418, 0.0424564 ,\n",
       "        0.04033197, 0.03840916, 0.03673525, 0.0351001 , 0.03371956,\n",
       "        0.03243917, 0.03132018, 0.03028486, 0.02936173, 0.02839066,\n",
       "        0.02748303, 0.02665236, 0.0259231 , 0.02524698, 0.02463715,\n",
       "        0.0240109 , 0.02343556, 0.02289913, 0.02239129, 0.02186852,\n",
       "        0.02138538, 0.02091719, 0.02050139, 0.02010288, 0.01970798,\n",
       "        0.01934348, 0.01896902, 0.01863193, 0.01831993, 0.01800829,\n",
       "        0.01771929, 0.01743244, 0.0171802 , 0.01691448, 0.0166416 ,\n",
       "        0.01638455, 0.01614494, 0.01591912, 0.01568882, 0.01549091]),\n",
       " 'sensitivity': array([0.07602034, 0.11920431, 0.14883664, 0.1737922 , 0.19592523,\n",
       "        0.21376161, 0.23024632, 0.24381373, 0.25558924, 0.26668932,\n",
       "        0.27741627, 0.28668212, 0.29608235, 0.30392758, 0.31143979,\n",
       "        0.31801273, 0.32495434, 0.33200343, 0.3386772 , 0.34405688,\n",
       "        0.34888134, 0.35351531, 0.35825055, 0.36310999, 0.36815016,\n",
       "        0.37255319, 0.376835  , 0.3811537 , 0.38598676, 0.38892245,\n",
       "        0.39255409, 0.39566737, 0.39934219, 0.40273396, 0.4056262 ,\n",
       "        0.40885903, 0.41142419, 0.41449058, 0.41755741, 0.42044047,\n",
       "        0.42379536, 0.42654933, 0.42970126, 0.43238305, 0.43470333,\n",
       "        0.4370555 , 0.4393578 , 0.44186605, 0.44403197, 0.44689682]),\n",
       " 'specificity': array([0.99995692, 0.99991174, 0.99986559, 0.99981915, 0.99977252,\n",
       "        0.99972565, 0.99967856, 0.99963138, 0.99958397, 0.99953655,\n",
       "        0.99948907, 0.99944151, 0.99939391, 0.99934618, 0.99929848,\n",
       "        0.99925072, 0.99920297, 0.99915518, 0.9991074 , 0.99905948,\n",
       "        0.99901153, 0.99896358, 0.99891566, 0.99886773, 0.99881981,\n",
       "        0.99877181, 0.99872382, 0.99867583, 0.99862783, 0.99857975,\n",
       "        0.99853169, 0.9984836 , 0.99843554, 0.99838748, 0.99833938,\n",
       "        0.9982913 , 0.99824317, 0.99819507, 0.99814698, 0.99809886,\n",
       "        0.99805076, 0.99800263, 0.99795455, 0.99790642, 0.99785824,\n",
       "        0.99781008, 0.99776192, 0.99771378, 0.99766561, 0.99761749])}"
      ]
     },
     "execution_count": 98,
     "metadata": {},
     "output_type": "execute_result"
    }
   ],
   "source": [
    "validation_scores_svd[0]"
   ]
  },
  {
   "cell_type": "code",
   "execution_count": 99,
   "metadata": {},
   "outputs": [
    {
     "name": "stdout",
     "output_type": "stream",
     "text": [
      "2.5 700 0.0008100968940787177\n"
     ]
    }
   ],
   "source": [
    "for score in validation_scores_svd:\n",
    "    print(score[\"alpha\"], score[\"svd_rank\"], score[\"score\"])"
   ]
  },
  {
   "cell_type": "markdown",
   "metadata": {},
   "source": [
    "## EVALUACIJA GENERALNO"
   ]
  },
  {
   "cell_type": "code",
   "execution_count": 100,
   "metadata": {},
   "outputs": [
    {
     "data": {
      "text/plain": [
       "'dole primjer za als - 3 modificirane funkcije i onda se samo pozove - nije bas savrseno al mislim da ce bit skroz ok za nasih par modela'"
      ]
     },
     "execution_count": 100,
     "metadata": {},
     "output_type": "execute_result"
    }
   ],
   "source": [
    "\"treba u evaluate_model_user za svaki model dodati granu u if-u u funkciji evaluate_model_user u kojoj se napravi score_index\"\n",
    "\"score_index je lista/np.array koji sadrži indekse grupa sortirane po scoreu koji model daje, dakle sortirana lista grupa za recommendat\"\n",
    "\"ideja je da se dotad sve sto ti treba za evaluirati model prenosi u varijabli model, a onda unutar tog ifa se pozove neka funkcija koja evaluira\"\n",
    "\"za validaciju i kreiranje modela predlazem da se rade posebne funkcije za svaki jer nije bas zgodno napravit generalno, mogu biti po uzoru na ove\"\n",
    "#precision, sensitivity, specificity = evaluate_model(model, c_train, c_val, n_users, n_groups, model_type = \"SVD\")\n",
    "#score = get_score(precision, sensitivity, specificity)\n",
    "\"dole primjer za als - 3 modificirane funkcije i onda se samo pozove - nije bas savrseno al mislim da ce bit skroz ok za nasih par modela\""
   ]
  },
  {
   "cell_type": "markdown",
   "metadata": {},
   "source": [
    "## ALS"
   ]
  },
  {
   "cell_type": "code",
   "execution_count": null,
   "metadata": {},
   "outputs": [],
   "source": [
    "def als_get_recs(i, n, model, c_train, n_groups):\n",
    "    recs = model.recommend(i, user_items = csr_matrix(c_train), N = n, filter_already_liked_items = True, filter_items = [j for j in range(c_train.shape[0]-n_groups)])\n",
    "    indices = [rec[0]-n_users for rec in recs]\n",
    "    scores = [rec[1] for rec in recs]\n",
    "    score = np.zeros(n_groups)\n",
    "    score[indices] = scores\n",
    "    score_index = np.flip(np.argsort(score))\n",
    "    return score_index"
   ]
  },
  {
   "cell_type": "code",
   "execution_count": null,
   "metadata": {},
   "outputs": [],
   "source": [
    "def als_model(alpha, n_factors, s, a_train, a_val, n_users, n_groups):\n",
    "    c_train, c_val = prepare_train_data(alpha, s, a_train, a_val)\n",
    "    model = implicit.als.AlternatingLeastSquares(factors = n_factors, regularization = 2)\n",
    "    model.fit(c_train)    \n",
    "    precision, sensitivity, specificity = evaluate_model(model, c_train, c_val, n_users, n_groups, model_type = \"ALS\")\n",
    "    score = get_score(precision, sensitivity, specificity)\n",
    "    return {\"alpha\" : alpha, \"n_factors\" : n_factors, \"score\" : score, \"precision\" : precision, \"sensitivity\" : sensitivity, \"specificity\" : specificity}"
   ]
  },
  {
   "cell_type": "code",
   "execution_count": null,
   "metadata": {},
   "outputs": [],
   "source": [
    "def validate_als_model(alphas, n_factors, s, a_train, a_val, n_users, n_groups):\n",
    "    validation_scores = []\n",
    "    for alpha in alphas:\n",
    "        for nf in n_factors:\n",
    "            validation_scores.append(als_model(alpha, nf, s, a_train, a_val, n_users, n_groups))\n",
    "    return validation_scores"
   ]
  },
  {
   "cell_type": "code",
   "execution_count": null,
   "metadata": {},
   "outputs": [],
   "source": [
    "alphas = [7]\n",
    "n_factors = [600]"
   ]
  },
  {
   "cell_type": "code",
   "execution_count": null,
   "metadata": {},
   "outputs": [],
   "source": [
    "validation_scores_als = validate_als_model(alphas, n_factors, s, a_train, a_val, n_users, n_groups)"
   ]
  },
  {
   "cell_type": "code",
   "execution_count": null,
   "metadata": {},
   "outputs": [],
   "source": [
    "validation_scores_als.sort(key = lambda x : x[\"score\"], reverse = True)"
   ]
  },
  {
   "cell_type": "code",
   "execution_count": null,
   "metadata": {},
   "outputs": [],
   "source": [
    "validation_scores_als[0]"
   ]
  },
  {
   "cell_type": "code",
   "execution_count": 108,
   "metadata": {},
   "outputs": [
    {
     "data": {
      "text/plain": [
       "(7, 600)"
      ]
     },
     "execution_count": 108,
     "metadata": {},
     "output_type": "execute_result"
    }
   ],
   "source": [
    "validation_scores_als[0][\"alpha\"], validation_scores_als[0][\"n_factors\"]"
   ]
  },
  {
   "cell_type": "code",
   "execution_count": 109,
   "metadata": {},
   "outputs": [
    {
     "name": "stdout",
     "output_type": "stream",
     "text": [
      "7 600 0.000887046928605899\n"
     ]
    }
   ],
   "source": [
    "for score in validation_scores_als:\n",
    "    print(score[\"alpha\"], score[\"n_factors\"], score[\"score\"])"
   ]
  },
  {
   "cell_type": "markdown",
   "metadata": {},
   "source": [
    "## Katz"
   ]
  },
  {
   "cell_type": "code",
   "execution_count": 110,
   "metadata": {},
   "outputs": [],
   "source": [
    "def katz (A, S, k, rank, beta, alfa):\n",
    "    S = S.astype(float)\n",
    "    vals, vecs = eigsh(S, k=rank)\n",
    "    matrix = A.astype(float)\n",
    "    U, s, V = svds( matrix, k=rank)\n",
    "    common_space = np.hstack([vecs,U])\n",
    "    q, r = linalg.qr(common_space, mode=\"economic\")\n",
    "    Ds = q.transpose()@S@ q\n",
    "    V, r1 = linalg.qr(A.transpose()@q,mode=\"economic\")\n",
    "    Vt=V.transpose()\n",
    "    Da = q.transpose()@ A @ V\n",
    "    x1 = alfa*Ds@Da\n",
    "    last_factors = [[x1,1]]\n",
    "    # 1 ce mi biti indikator jel prvi sumand matrica Ds ili nije\n",
    "    if k==1:\n",
    "        return beta*q@Da@Vt\n",
    "    beta=beta**2\n",
    "    final_sum = beta*x1\n",
    "    if k==2:\n",
    "        return prvi_sumand+q@final_sum@Vt\n",
    "    for i in range(k-2):\n",
    "        novi = []\n",
    "        for fact in last_factors:\n",
    "            if fact[1]==1:\n",
    "                novi.append([alfa*Ds@fact[0],1])\n",
    "                novi.append([((1/alfa)*Da@Da.transpose()@np.linalg.inv(Ds)@fact[0]),0])\n",
    "            if fact[1]==0:\n",
    "                novi.append([alfa*Ds@fact[0],1])\n",
    "        ita_suma = sum(matr[0] for matr in novi)\n",
    "        beta=beta*beta\n",
    "        final_sum = final_sum + beta*ita_suma\n",
    "        last_factors = novi\n",
    "    #rez = beta*q@Ds@q.transpose()+q@final_sum@Vt\n",
    "    \n",
    "    #rez = q@final_sum@Vt\n",
    "    final_sum = beta*Da+final_sum\n",
    "    return q,final_sum, Vt\n",
    "        \n",
    "    "
   ]
  },
  {
   "cell_type": "code",
   "execution_count": 111,
   "metadata": {},
   "outputs": [],
   "source": [
    "def katz_get_recs(i, model, train_labels, n_groups):\n",
    "        q, final_sum, vt = model\n",
    "        score = (q[i,:]@final_sum@vt)\n",
    "        score = np.multiply(score, np.logical_not(train_labels))\n",
    "        score_index = np.flip(np.argsort(score))\n",
    "        return score_index\n",
    "    "
   ]
  },
  {
   "cell_type": "code",
   "execution_count": 112,
   "metadata": {},
   "outputs": [],
   "source": [
    "def katz_model(alpha,beta, katz_rank, s, a_train, a_val, n_users, n_groups, k):\n",
    "    #katz (A, S, k, d, beta, alfa):\n",
    "    #c_train, c_val = prepare_train_data(alpha, s, a_train, a_val)\n",
    "    model = katz(a_train, s,k ,katz_rank, beta, alpha)\n",
    "    precision, sensitivity, specificity = evaluate_model(model, a_train, a_val, n_users, n_groups, model_type = \"katz\")\n",
    "    score = get_score(precision, sensitivity, specificity)\n",
    "    return {\"beta\" : beta, \"alpha\" : alpha, \"katz_rank\" : katz_rank, \"score\" : score, \"precision\" : precision, \"sensitivity\" : sensitivity, \"specificity\" : specificity}"
   ]
  },
  {
   "cell_type": "code",
   "execution_count": 113,
   "metadata": {},
   "outputs": [],
   "source": [
    "def validate_katz_model(alphas, betas, katz_ranks, s, a_train, a_val, n_users, n_groups, k):\n",
    "    validation_scores = []\n",
    "    for alpha in alphas:\n",
    "        for beta in betas:\n",
    "            for katz_rank in katz_ranks:\n",
    "                validation_scores.append(katz_model(alpha, beta, katz_rank, s, a_train, a_val, n_users, n_groups, k))\n",
    "    return validation_scores"
   ]
  },
  {
   "cell_type": "code",
   "execution_count": 132,
   "metadata": {},
   "outputs": [],
   "source": [
    "alphas = [1]\n",
    "betas = [0.1]\n",
    "katz_ranks = [600]"
   ]
  },
  {
   "cell_type": "code",
   "execution_count": 133,
   "metadata": {},
   "outputs": [
    {
     "name": "stderr",
     "output_type": "stream",
     "text": [
      "100%|██████████| 16398/16398 [06:36<00:00, 41.32it/s]\n"
     ]
    }
   ],
   "source": [
    "validation_scores_katz = validate_katz_model(alphas,betas, katz_ranks, s, a_train, a_val, n_users, n_groups, 7)"
   ]
  },
  {
   "cell_type": "code",
   "execution_count": 134,
   "metadata": {},
   "outputs": [],
   "source": [
    "validation_scores_katz.sort(key = lambda x : x[\"score\"], reverse = True)"
   ]
  },
  {
   "cell_type": "code",
   "execution_count": 135,
   "metadata": {},
   "outputs": [
    {
     "data": {
      "text/plain": [
       "{'beta': 0.1,\n",
       " 'alpha': 1,\n",
       " 'katz_rank': 600,\n",
       " 'score': 0.0008857722130259596,\n",
       " 'precision': array([0.11702647, 0.09309062, 0.07832256, 0.0694292 , 0.06271497,\n",
       "        0.05784242, 0.0533863 , 0.05024241, 0.04729574, 0.04471277,\n",
       "        0.04250518, 0.04055373, 0.03880398, 0.03720837, 0.03578079,\n",
       "        0.03442112, 0.03318554, 0.0321008 , 0.03109814, 0.03020185,\n",
       "        0.02933575, 0.02857056, 0.02773933, 0.02701549, 0.02630809,\n",
       "        0.02566683, 0.0250437 , 0.02449341, 0.0239411 , 0.02336667,\n",
       "        0.02284504, 0.02238459, 0.02191324, 0.02147141, 0.02103915,\n",
       "        0.0206326 , 0.02028758, 0.01990134, 0.01953021, 0.01922491,\n",
       "        0.01890772, 0.01859693, 0.01831051, 0.01803712, 0.01776097,\n",
       "        0.01749948, 0.0172582 , 0.01700665, 0.01677283, 0.0165325 ]),\n",
       " 'sensitivity': array([0.08343642, 0.12864369, 0.15984972, 0.18631482, 0.20883471,\n",
       "        0.22972632, 0.24550494, 0.26263932, 0.27675096, 0.28948632,\n",
       "        0.30201086, 0.31323852, 0.32283156, 0.33227768, 0.34071561,\n",
       "        0.3479864 , 0.35558101, 0.36269936, 0.36913412, 0.37567449,\n",
       "        0.38178975, 0.38853381, 0.39362701, 0.39921242, 0.40423596,\n",
       "        0.40922626, 0.4141054 , 0.41925332, 0.42376679, 0.42735027,\n",
       "        0.43084507, 0.43522021, 0.43917493, 0.44259754, 0.44570164,\n",
       "        0.44858695, 0.45252769, 0.45505617, 0.45743149, 0.46123895,\n",
       "        0.46428577, 0.46718731, 0.47003751, 0.4734676 , 0.47639625,\n",
       "        0.4792261 , 0.48239007, 0.48504807, 0.48792467, 0.49031086]),\n",
       " 'specificity': array([0.99995726, 0.99991221, 0.99986617, 0.99981984, 0.99977318,\n",
       "        0.9997264 , 0.99967929, 0.99963225, 0.999585  , 0.99953764,\n",
       "        0.99949023, 0.99944275, 0.99939522, 0.99934761, 0.99929998,\n",
       "        0.99925226, 0.9992045 , 0.99915677, 0.999109  , 0.99906124,\n",
       "        0.99901342, 0.99896562, 0.99891768, 0.99886978, 0.99882183,\n",
       "        0.9987739 , 0.99872593, 0.99867799, 0.99863   , 0.99858193,\n",
       "        0.99853388, 0.99848587, 0.9984378 , 0.99838973, 0.99834164,\n",
       "        0.99829355, 0.99824553, 0.9981974 , 0.99814926, 0.99810122,\n",
       "        0.99805312, 0.998005  , 0.99795691, 0.99790881, 0.99786068,\n",
       "        0.99781256, 0.99776446, 0.99771631, 0.99766818, 0.99762001])}"
      ]
     },
     "execution_count": 135,
     "metadata": {},
     "output_type": "execute_result"
    }
   ],
   "source": [
    "validation_scores_katz[0]"
   ]
  },
  {
   "cell_type": "code",
   "execution_count": 136,
   "metadata": {},
   "outputs": [
    {
     "data": {
      "text/plain": [
       "(1, 0.1, 600)"
      ]
     },
     "execution_count": 136,
     "metadata": {},
     "output_type": "execute_result"
    }
   ],
   "source": [
    "validation_scores_katz[0][\"alpha\"], validation_scores_katz[0][\"beta\"], validation_scores_katz[0][\"katz_rank\"]"
   ]
  },
  {
   "cell_type": "code",
   "execution_count": 137,
   "metadata": {},
   "outputs": [
    {
     "name": "stdout",
     "output_type": "stream",
     "text": [
      "1 0.1 600 0.0008857722130259596\n"
     ]
    }
   ],
   "source": [
    "for score in validation_scores_katz:\n",
    "    print(score[\"alpha\"], score[\"beta\"],score[\"katz_rank\"], score[\"score\"])"
   ]
  },
  {
   "cell_type": "markdown",
   "metadata": {},
   "source": [
    "## Vizualizacija"
   ]
  },
  {
   "cell_type": "code",
   "execution_count": 138,
   "metadata": {},
   "outputs": [],
   "source": [
    "import seaborn as sns"
   ]
  },
  {
   "cell_type": "code",
   "execution_count": 139,
   "metadata": {},
   "outputs": [],
   "source": [
    "sns.set_theme()\n",
    "sns.set_style(\"darkgrid\")"
   ]
  },
  {
   "cell_type": "code",
   "execution_count": 131,
   "metadata": {},
   "outputs": [
    {
     "data": {
      "text/plain": [
       "Text(0.5, 1.0, 'ROC CURVES FOR ALL MODELS')"
      ]
     },
     "execution_count": 131,
     "metadata": {},
     "output_type": "execute_result"
    },
    {
     "data": {
      "image/png": "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\n",
      "text/plain": [
       "<Figure size 1080x720 with 1 Axes>"
      ]
     },
     "metadata": {},
     "output_type": "display_data"
    }
   ],
   "source": [
    "plt.plot(1 - validation_scores_als[0][\"specificity\"], validation_scores_als[0][\"sensitivity\"])"
    "plt.figure(figsize = (15,10))\n",
    "plt.ticklabel_format(style='sci', axis='x', scilimits=(0,0))\n",
    "sns.lineplot(x = 1 - validation_scores_als[0][\"specificity\"], y = validation_scores_als[0][\"sensitivity\"])\n",
    "sns.lineplot(x = 1 - validation_scores_svd[0][\"specificity\"], y = validation_scores_svd[0][\"sensitivity\"])\n",
    "sns.lineplot(x = 1 - validation_scores_katz[0][\"specificity\"], y = validation_scores_katz[0][\"sensitivity\"])\n",
    "plt.legend((\"ALS\", \"SVD\", \"KATZ\"))\n",
    "plt.xlabel(\"1 - specificity\")\n",
    "plt.ylabel(\"sensitivity\")\n",
    "plt.title(\"ROC CURVES FOR ALL MODELS\")"
   ]
  },
  {
   "cell_type": "markdown",
   "metadata": {},
   "source": [
    "## Random Katz"
   ]
  },
  {
   "cell_type": "code",
   "execution_count": null,
   "metadata": {},
   "outputs": [],
   "source": [
    "def rand_katz_get_recs(i, n, model, train_labels, n_groups):\n",
    "    recs = model[i+1] # i is iterating from 0 to n_users, user_id in dict is between 1 and n_users\n",
    "    score = np.multiply(recs, np.logical_not(train_labels))\n",
    "    score_index = np.flip(np.argsort(score))\n",
    "    return score_index"
   ]
  },
  {
   "cell_type": "code",
   "execution_count": null,
   "metadata": {},
   "outputs": [],
   "source": [
    "import struct\n",
    "\n",
    "def read_results_from_bin(bin_file_path, n_groups):\n",
    "    # format is uint32, uint32, double\n",
    "    fmt = \"IId\"\n",
    "    record_len = struct.calcsize(fmt)\n",
    "    unpack = struct.Struct(fmt).unpack_from\n",
    "    result = {}\n",
    "    with open(bin_file_path, \"rb\") as file:\n",
    "        data = file.read(record_len)\n",
    "        while data:\n",
    "            user, group, score = unpack(data)\n",
    "            if user not in result:\n",
    "                result[user] = np.zeros(n_groups)\n",
    "            result[user][group] = score\n",
    "            data = file.read(record_len)\n",
    "    return result"
   ]
  },
  {
   "cell_type": "code",
   "execution_count": null,
   "metadata": {},
   "outputs": [],
   "source": [
    "def random_katz_model(file, s, a_train, a_val, n_users, n_groups):\n",
    "    model = read_results_from_bin(str(file), n_groups)   #model je izracunat vec u nekom c++ kodu, ovdje samo učitaom file\n",
    "    c_train, c_val = prepare_train_data(1, s, a_train, a_val)\n",
    "    precision, sensitivity, specificity = evaluate_model(model, c_train, c_val, n_users, n_groups, model_type = \"random_katz\")\n",
    "    score = get_score(precision, sensitivity, specificity)\n",
    "    path_len, iterations = tuple(int(s) for s in re.findall(r'\\d+', str(file)))       # cisto da imamo podatke o duljini puta i broju iteracija u ovom modelu\n",
    "    return {\"iterations\": iterations, \"path_len\": path_len, \"score\": score, \"precision\": precision, \"sensitivity\": sensitivity, \"specificity\": specificity}"
   ]
  },
  {
   "cell_type": "code",
   "execution_count": null,
   "metadata": {},
   "outputs": [],
   "source": [
    "def validate_random_katz_model(s, a_train, a_val, n_users, n_groups):\n",
    "    validation_scores = []\n",
    "    for file in Path(\"data/random_katz/results/\").iterdir():\n",
    "        validation_scores.append(random_katz_model(file, s, a_train, a_val, n_users, n_groups))\n",
    "    return validation_scores"
   ]
  },
  {
   "cell_type": "code",
   "execution_count": null,
   "metadata": {},
   "outputs": [],
   "source": [
    "%%time\n",
    "\n",
    "rand_katz_validation_scores = validate_random_katz_model(s, a_train, a_val, n_users, n_groups)"
   ]
  },
  {
   "cell_type": "code",
   "execution_count": null,
   "metadata": {},
   "outputs": [],
   "source": [
    "rand_katz_validation_scores.sort(key= lambda x : x[\"score\"])"
   ]
  },
  {
   "cell_type": "code",
   "execution_count": null,
   "metadata": {},
   "outputs": [],
   "source": [
    "for val_score in rand_katz_validation_scores:\n",
    "    plt.plot(1 - val_score[\"specificity\"], val_score[\"sensitivity\"])"
   ]
  },
  {
   "cell_type": "code",
   "execution_count": null,
   "metadata": {},
   "outputs": [],
   "source": [
    "plt.plot(1 - rand_katz_validation_scores[-1][\"specificity\"], rand_katz_validation_scores[-1][\"sensitivity\"])"
   ]
  },
  {
   "cell_type": "code",
   "execution_count": null,
   "metadata": {},
   "outputs": [],
   "source": [
    "rand_katz_validation_scores[-1]"
   ]
  }
 ],
 "metadata": {
  "kernelspec": {
   "display_name": "Python 3 (ipykernel)",
   "language": "python",
   "name": "python3"
  },
  "language_info": {
   "codemirror_mode": {
    "name": "ipython",
    "version": 3
   },
   "file_extension": ".py",
   "mimetype": "text/x-python",
   "name": "python",
   "nbconvert_exporter": "python",
   "pygments_lexer": "ipython3",
   "version": "3.9.9"
  }
 },
 "nbformat": 4,
 "nbformat_minor": 4
}
