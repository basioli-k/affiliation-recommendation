{
 "cells": [
  {
   "cell_type": "code",
   "execution_count": 83,
   "metadata": {},
   "outputs": [],
   "source": [
    "import numpy as np\n",
    "import scipy\n",
    "from scipy.sparse import csc_matrix, bmat, load_npz, csr_matrix\n",
    "from scipy.sparse.linalg import svds\n",
    "import matplotlib.pyplot as plt\n",
    "from tqdm import tqdm\n",
    "import random\n",
    "import implicit"
   ]
  },
  {
   "cell_type": "markdown",
   "metadata": {},
   "source": [
    "## Load Data"
   ]
  },
  {
   "cell_type": "code",
   "execution_count": 84,
   "metadata": {},
   "outputs": [],
   "source": [
    "s = load_npz(\"data/yt_s.npz\")\n",
    "a_train = load_npz(\"data/yt_a_train.npz\")\n",
    "a_test = load_npz(\"data/yt_a_test.npz\")\n",
    "a_val = load_npz(\"data/yt_a_val.npz\")\n",
    "n_groups = a_train.shape[1]\n",
    "n_users = s.shape[0]"
   ]
  },
  {
   "cell_type": "code",
   "execution_count": 85,
   "metadata": {},
   "outputs": [],
   "source": [
    "def prepare_train_data(alpha, s, a_train, a_val):\n",
    "    c_train = bmat([[alpha*s, a_train], [a_train.transpose(), None]])\n",
    "    c_val = bmat([[alpha*s, a_val], [a_val.transpose(), None]])\n",
    "    #c_test = bmat([[alpha*s, a_test], [a_test.transpose(), None]])    \n",
    "    return c_train.astype(np.float64), c_val.astype(np.float64)"
   ]
  },
  {
   "cell_type": "markdown",
   "metadata": {},
   "source": [
    "## SVD"
   ]
  },
  {
   "cell_type": "code",
   "execution_count": 86,
   "metadata": {},
   "outputs": [],
   "source": [
    "def svd_get_recs(i, model, train_labels, n_groups):\n",
    "        u, sig, vt = model\n",
    "        score = (u[i,:]@np.diag(sig)@vt)[-n_groups:]\n",
    "        score = np.multiply(score, np.logical_not(train_labels))\n",
    "        score_index = np.flip(np.argsort(score))\n",
    "        return score_index"
   ]
  },
  {
   "cell_type": "code",
   "execution_count": 87,
   "metadata": {},
   "outputs": [],
   "source": [
    "\"vrati listu (za k = 1:n) precisiona i recalla na testu za jednog usera\"\n",
    "def evaluate_model_user(i, n, model, c_train, c_val, n_groups, model_type):\n",
    "    \"i = user za kojeg generiramo recommendatione\"\n",
    "    true_labels = c_val.getrow(i).toarray().flatten()[-n_groups:]\n",
    "    train_labels = c_train.getrow(i).toarray().flatten()[-n_groups:]\n",
    "    \n",
    "    \"tu se dodaju novi modeli\"\n",
    "    if model_type == \"SVD\":\n",
    "        score_index = svd_get_recs(i, model, train_labels, n_groups)\n",
    "    if model_type == \"ALS\":\n",
    "        score_index = als_get_recs(i, n, model, c_train, n_groups)\n",
    "        \n",
    "    positives = np.sum(true_labels)\n",
    "    negatives = n_groups - positives\n",
    "    user_i_stats = []\n",
    "    for predictions in range(1, n+1):\n",
    "        recommendations = score_index[:predictions]\n",
    "        true_positives = np.sum(true_labels[recommendations] == 1)\n",
    "        true_negatives = negatives - (predictions - true_positives)\n",
    "        precision = true_positives/predictions\n",
    "        sensitivity = true_positives/positives if positives != 0 else 1\n",
    "        specificity = true_negatives/negatives\n",
    "        user_i_stats.append((precision, sensitivity, specificity))\n",
    "    return user_i_stats"
   ]
  },
  {
   "cell_type": "code",
   "execution_count": 88,
   "metadata": {},
   "outputs": [],
   "source": [
    "def evaluate_model(model, c_train, c_val, n_users, n_groups, model_type):\n",
    "    stats = []\n",
    "    for i in tqdm(range(n_users)):\n",
    "            if np.sum(c_val.getrow(i).toarray().flatten()[-n_groups:]) != 0:\n",
    "                stats.append(evaluate_model_user(i, 50, model, c_train, c_val, n_groups, model_type))\n",
    "    \"stats mi je lista duljine broj usera, svaki element je lista duljine n koja sadrzi tupleove oblika (pr, se, sp)\"\n",
    "    pr_se_sp = []\n",
    "    \"pr_se_sp ce biti lista tupleova duljine n, tuple je oblika (mean_pr, mean_se, mean_sp) gdje je prosjek uzet po userima\"\n",
    "    for n in zip(*stats):\n",
    "        pr_se_sp.append((np.mean([i for i,j,k in n]), np.mean([j for i,j,k in n]), np.mean([k for i,j,k in n])))\n",
    "    \"pss ce biti numpy array dimenzija n x 3, svaki stupac odgovara jednom od (pr, se, sp)\"\n",
    "    pss = np.array(pr_se_sp)\n",
    "    return pss[:,0], pss[:,1], pss[:,2]"
   ]
  },
  {
   "cell_type": "code",
   "execution_count": 89,
   "metadata": {},
   "outputs": [],
   "source": [
    "def get_score(precision, sensitivity, specificity):\n",
    "    x=[(1-spec) for spec in specificity]\n",
    "    area = np.trapz(y=sensitivity, x=x)\n",
    "    return abs(area)"
   ]
  },
  {
   "cell_type": "code",
   "execution_count": 90,
   "metadata": {},
   "outputs": [],
   "source": [
    "def svd_model(alpha, svd_rank, s, a_train, a_val, n_users, n_groups):\n",
    "    c_train, c_val = prepare_train_data(alpha, s, a_train, a_val)\n",
    "    model = svds(c_train, k = svd_rank)\n",
    "    precision, sensitivity, specificity = evaluate_model(model, c_train, c_val, n_users, n_groups, model_type = \"SVD\")\n",
    "    score = get_score(precision, sensitivity, specificity)\n",
    "    return {\"alpha\" : alpha, \"svd_rank\" : svd_rank, \"score\" : score, \"precision\" : precision, \"sensitivity\" : sensitivity, \"specificity\" : specificity}"
   ]
  },
  {
   "cell_type": "code",
   "execution_count": 91,
   "metadata": {},
   "outputs": [],
   "source": [
    "def validate_svd_model(alphas, svd_ranks, s, a_train, a_val, n_users, n_groups):\n",
    "    validation_scores = []\n",
    "    for alpha in alphas:\n",
    "        for svd_rank in svd_ranks:\n",
    "            validation_scores.append(svd_model(alpha, svd_rank, s, a_train, a_val, n_users, n_groups))\n",
    "    return validation_scores"
   ]
  },
  {
   "cell_type": "code",
   "execution_count": 92,
   "metadata": {},
   "outputs": [],
   "source": [
    "alphas = [3]\n",
    "svd_ranks = [10]"
   ]
  },
  {
   "cell_type": "code",
   "execution_count": 104,
   "metadata": {},
   "outputs": [
    {
     "name": "stderr",
     "output_type": "stream",
     "text": [
      "100%|██████████| 10000/10000 [01:44<00:00, 96.03it/s]\n"
     ]
    }
   ],
   "source": [
    "validation_scores_svd = validate_svd_model(alphas, svd_ranks, s, a_train, a_val, n_users, n_groups)"
   ]
  },
  {
   "cell_type": "code",
   "execution_count": 106,
   "metadata": {},
   "outputs": [
    {
     "data": {
      "text/plain": [
       "[{'alpha': 3,\n",
       "  'svd_rank': 10,\n",
       "  'score': 0.0007483539025352523,\n",
       "  'precision': array([0.07300647, 0.05697737, 0.0465158 , 0.04017376, 0.0359375 ,\n",
       "         0.03248473, 0.0298068 , 0.02759631, 0.02614643, 0.02471713,\n",
       "         0.02362118, 0.02269666, 0.02184184, 0.02112839, 0.02060884,\n",
       "         0.02008688, 0.01956294, 0.01915709, 0.01866635, 0.01819774,\n",
       "         0.01781866, 0.01739445, 0.01696613, 0.01656228, 0.01613685,\n",
       "         0.01573379, 0.01543542, 0.01513912, 0.01478894, 0.01444415,\n",
       "         0.01417373, 0.01395811, 0.01371882, 0.01350152, 0.0132851 ,\n",
       "         0.01305451, 0.01281454, 0.01259074, 0.01239915, 0.01218346,\n",
       "         0.01202429, 0.01182779, 0.01167489, 0.01149221, 0.01132962,\n",
       "         0.01117996, 0.01103953, 0.0108853 , 0.01073463, 0.01059537]),\n",
       "  'sensitivity': array([0.05152228, 0.07861634, 0.09376353, 0.10605379, 0.11644248,\n",
       "         0.12387255, 0.13098653, 0.13796228, 0.14596257, 0.15279468,\n",
       "         0.16037074, 0.1675306 , 0.1743104 , 0.17990907, 0.18626056,\n",
       "         0.19259742, 0.1988742 , 0.20432037, 0.20939841, 0.21449409,\n",
       "         0.21931183, 0.22317588, 0.22633937, 0.22993493, 0.23307081,\n",
       "         0.23578263, 0.23951239, 0.24294569, 0.24573985, 0.24823445,\n",
       "         0.25110439, 0.2548786 , 0.25833954, 0.26147766, 0.26445775,\n",
       "         0.26684485, 0.26893091, 0.2714099 , 0.2742333 , 0.27581053,\n",
       "         0.27806593, 0.27970948, 0.28254982, 0.28424934, 0.2865019 ,\n",
       "         0.28859734, 0.2910308 , 0.29288673, 0.29422482, 0.29579202]),\n",
       "  'specificity': array([0.99993477, 0.99986729, 0.99979873, 0.99972985, 0.99966083,\n",
       "         0.99959153, 0.99952214, 0.99945263, 0.99938329, 0.99931376,\n",
       "         0.99924429, 0.9991748 , 0.99910526, 0.99903573, 0.9989663 ,\n",
       "         0.9988968 , 0.99882722, 0.99875772, 0.99868805, 0.99861834,\n",
       "         0.9985487 , 0.99847893, 0.9984091 , 0.99833925, 0.9982693 ,\n",
       "         0.99819934, 0.99812951, 0.99805965, 0.99798964, 0.99791959,\n",
       "         0.99784965, 0.9977798 , 0.99770986, 0.99763995, 0.99757   ,\n",
       "         0.99749999, 0.99742992, 0.99735986, 0.99728985, 0.99721975,\n",
       "         0.99714979, 0.99707969, 0.9970097 , 0.99693959, 0.99686952,\n",
       "         0.99679947, 0.99672943, 0.99665932, 0.9965892 , 0.99651911])}]"
      ]
     },
     "execution_count": 106,
     "metadata": {},
     "output_type": "execute_result"
    }
   ],
   "source": [
    "validation_scores_svd"
   ]
  },
  {
   "cell_type": "code",
   "execution_count": 108,
   "metadata": {},
   "outputs": [
    {
     "data": {
      "text/plain": [
       "[<matplotlib.lines.Line2D at 0x7f0823b0d0a0>]"
      ]
     },
     "execution_count": 108,
     "metadata": {},
     "output_type": "execute_result"
    },
    {
     "data": {
      "image/png": "[encoded data removed]",
      "text/plain": [
       "<Figure size 432x288 with 1 Axes>"
      ]
     },
     "metadata": {
      "needs_background": "light"
     },
     "output_type": "display_data"
    }
   ],
   "source": [
    "plt.plot(1 - validation_scores_svd[0][\"specificity\"], validation_scores_svd[0][\"sensitivity\"])"
   ]
  },
  {
   "cell_type": "markdown",
   "metadata": {},
   "source": [
    "## EVALUACIJA GENERALNO"
   ]
  },
  {
   "cell_type": "code",
   "execution_count": null,
   "metadata": {},
   "outputs": [],
   "source": [
    "\"treba u evaluate_model_user za svaki model dodati granu u if-u u funkciji evaluate_model_user u kojoj se napravi score_index\"\n",
    "\"score_index je lista/np.array koji sadrži indekse grupa sortirane po scoreu koji model daje, dakle sortirana lista grupa za recommendat\"\n",
    "\"ideja je da se dotad sve sto ti treba za evaluirati model prenosi u varijabli model, a onda unutar tog ifa se pozove neka funkcija koja evaluira\"\n",
    "\"za validaciju i kreiranje modela predlazem da se rade posebne funkcije za svaki jer nije bas zgodno napravit generalno, mogu biti po uzoru na ove\"\n",
    "precision, sensitivity, specificity = evaluate_model(model, c_train, c_val, n_users, n_groups, model_type = \"SVD\")\n",
    "score = get_score(precision, sensitivity, specificity)\n",
    "\"dole primjer za als - 3 modificirane funkcije i onda se samo pozove - nije bas savrseno al mislim da ce bit skroz ok za nasih par modela\""
   ]
  },
  {
   "cell_type": "markdown",
   "metadata": {},
   "source": [
    "## ALS"
   ]
  },
  {
   "cell_type": "code",
   "execution_count": 98,
   "metadata": {},
   "outputs": [],
   "source": [
    "def als_get_recs(i, n, model, c_train, n_groups):\n",
    "    recs = model.recommend(i, user_items = csr_matrix(c_train), N = n, filter_already_liked_items = True, filter_items = [j for j in range(c_train.shape[0]-n_groups)])\n",
    "    indices = [rec[0]-n_users for rec in recs]\n",
    "    scores = [rec[1] for rec in recs]\n",
    "    score = np.zeros(n_groups)\n",
    "    score[indices] = scores\n",
    "    score_index = np.flip(np.argsort(score))\n",
    "    return score_index"
   ]
  },
  {
   "cell_type": "code",
   "execution_count": 99,
   "metadata": {},
   "outputs": [],
   "source": [
    "def als_model(alpha, svd_rank, s, a_train, a_val, n_users, n_groups):\n",
    "    c_train, c_val = prepare_train_data(alpha, s, a_train, a_val)\n",
    "    model = implicit.als.AlternatingLeastSquares(factors = n_factors, regularization = 2)\n",
    "    model.fit(c_train)    \n",
    "    precision, sensitivity, specificity = evaluate_model(model, c_train, c_val, n_users, n_groups, model_type = \"ALS\")\n",
    "    score = get_score(precision, sensitivity, specificity)\n",
    "    return {\"alpha\" : alpha, \"n_factors\" : n_factors, \"score\" : score, \"precision\" : precision, \"sensitivity\" : sensitivity, \"specificity\" : specificity}"
   ]
  },
  {
   "cell_type": "code",
   "execution_count": 100,
   "metadata": {},
   "outputs": [],
   "source": [
    "def validate_als_model(alphas, svd_ranks, s, a_train, a_val, n_users, n_groups):\n",
    "    validation_scores = []\n",
    "    for alpha in alphas:\n",
    "        for nf in n_factors:\n",
    "            validation_scores.append(als_model(alpha, nf, s, a_train, a_val, n_users, n_groups))\n",
    "    return validation_scores"
   ]
  },
  {
   "cell_type": "code",
   "execution_count": 101,
   "metadata": {},
   "outputs": [],
   "source": [
    "alphas = [3]\n",
    "n_factors = [10]"
   ]
  },
  {
   "cell_type": "code",
   "execution_count": 110,
   "metadata": {},
   "outputs": [
    {
     "data": {
      "application/vnd.jupyter.widget-view+json": {
       "model_id": "ef4a4dea3ba94613978e2d732b7cfd66",
       "version_major": 2,
       "version_minor": 0
      },
      "text/plain": [
       "HBox(children=(HTML(value=''), FloatProgress(value=0.0, max=15.0), HTML(value='')))"
      ]
     },
     "metadata": {},
     "output_type": "display_data"
    },
    {
     "name": "stderr",
     "output_type": "stream",
     "text": [
      "  0%|          | 4/10000 [00:00<04:48, 34.69it/s]"
     ]
    },
    {
     "name": "stdout",
     "output_type": "stream",
     "text": [
      "\n"
     ]
    },
    {
     "name": "stderr",
     "output_type": "stream",
     "text": [
      "100%|██████████| 10000/10000 [03:37<00:00, 46.03it/s]\n"
     ]
    }
   ],
   "source": [
    "validation_scores_als = validate_als_model(alphas, svd_ranks, s, a_train, a_val, n_users, n_groups)"
   ]
  },
  {
   "cell_type": "code",
   "execution_count": 111,
   "metadata": {},
   "outputs": [
    {
     "data": {
      "text/plain": [
       "[{'alpha': 3,\n",
       "  'svd_rank': 10,\n",
       "  'score': 0.0008078250454885732,\n",
       "  'precision': array([0.08324353, 0.06472252, 0.05320582, 0.04620151, 0.04159483,\n",
       "         0.03820941, 0.03571429, 0.0329674 , 0.03108537, 0.02926994,\n",
       "         0.02785805, 0.02670393, 0.02558231, 0.02465941, 0.02369792,\n",
       "         0.02291554, 0.02209052, 0.02143199, 0.02087114, 0.02027209,\n",
       "         0.01964671, 0.01910879, 0.0186645 , 0.0182011 , 0.01776401,\n",
       "         0.01737608, 0.01706677, 0.01668334, 0.01630778, 0.01598869,\n",
       "         0.01563804, 0.01537665, 0.01509029, 0.01475342, 0.01451278,\n",
       "         0.01423686, 0.01396858, 0.01376758, 0.01351818, 0.01328125,\n",
       "         0.01305916, 0.01287651, 0.01273369, 0.01253306, 0.01232938,\n",
       "         0.01216384, 0.01198528, 0.01181697, 0.01165003, 0.01148168]),\n",
       "  'sensitivity': array([0.05648463, 0.08689997, 0.10363966, 0.11713869, 0.13110482,\n",
       "         0.14244687, 0.15256854, 0.1599654 , 0.16790475, 0.17493706,\n",
       "         0.18283723, 0.19021723, 0.19621157, 0.20290172, 0.20734901,\n",
       "         0.21302597, 0.21793778, 0.22313546, 0.22811803, 0.23258253,\n",
       "         0.23596704, 0.23924755, 0.24354695, 0.24713739, 0.24980343,\n",
       "         0.25314416, 0.25677036, 0.26002384, 0.26323495, 0.26687884,\n",
       "         0.26887213, 0.27196853, 0.27488895, 0.27674963, 0.27979601,\n",
       "         0.28266397, 0.2847893 , 0.28812239, 0.29029349, 0.29211888,\n",
       "         0.29396906, 0.29737354, 0.30048624, 0.30253445, 0.30408526,\n",
       "         0.30616962, 0.30755418, 0.30955734, 0.31121874, 0.312666  ]),\n",
       "  'specificity': array([0.99993549, 0.99986838, 0.99980014, 0.99973155, 0.99966282,\n",
       "         0.99959395, 0.99952505, 0.99945565, 0.99938642, 0.99931696,\n",
       "         0.99924757, 0.99917819, 0.99910868, 0.99903921, 0.99896956,\n",
       "         0.99889999, 0.99883025, 0.9987606 , 0.998691  , 0.99862126,\n",
       "         0.9985514 , 0.99848159, 0.99841185, 0.99834202, 0.99827216,\n",
       "         0.99820234, 0.99813261, 0.9980627 , 0.99799274, 0.99792285,\n",
       "         0.99785285, 0.997783  , 0.99771305, 0.99764294, 0.99757302,\n",
       "         0.99750298, 0.99743292, 0.997363  , 0.99729292, 0.99722285,\n",
       "         0.99715278, 0.99708279, 0.9970129 , 0.99694281, 0.99687269,\n",
       "         0.99680266, 0.99673256, 0.99666247, 0.99659236, 0.99652223])}]"
      ]
     },
     "execution_count": 111,
     "metadata": {},
     "output_type": "execute_result"
    }
   ],
   "source": [
    "validation_scores_als"
   ]
  },
  {
   "cell_type": "code",
   "execution_count": 112,
   "metadata": {},
   "outputs": [
    {
     "ename": "NameError",
     "evalue": "name 'als' is not defined",
     "output_type": "error",
     "traceback": [
      "\u001b[0;31m---------------------------------------------------------------------------\u001b[0m",
      "\u001b[0;31mNameError\u001b[0m                                 Traceback (most recent call last)",
      "\u001b[0;32m<ipython-input-112-384c275538f3>\u001b[0m in \u001b[0;36m<module>\u001b[0;34m\u001b[0m\n\u001b[0;32m----> 1\u001b[0;31m \u001b[0mplt\u001b[0m\u001b[0;34m.\u001b[0m\u001b[0mplot\u001b[0m\u001b[0;34m(\u001b[0m\u001b[0;36m1\u001b[0m \u001b[0;34m-\u001b[0m \u001b[0mvalidation_scores_als\u001b[0m\u001b[0;34m[\u001b[0m\u001b[0;36m0\u001b[0m\u001b[0;34m]\u001b[0m\u001b[0;34m[\u001b[0m\u001b[0;34m\"specificity\"\u001b[0m\u001b[0;34m]\u001b[0m\u001b[0;34m,\u001b[0m \u001b[0mvalidation_scores\u001b[0m\u001b[0;34m-\u001b[0m\u001b[0mals\u001b[0m\u001b[0;34m[\u001b[0m\u001b[0;36m0\u001b[0m\u001b[0;34m]\u001b[0m\u001b[0;34m[\u001b[0m\u001b[0;34m\"sensitivity\"\u001b[0m\u001b[0;34m]\u001b[0m\u001b[0;34m)\u001b[0m\u001b[0;34m\u001b[0m\u001b[0;34m\u001b[0m\u001b[0m\n\u001b[0m",
      "\u001b[0;31mNameError\u001b[0m: name 'als' is not defined"
     ]
    }
   ],
   "source": [
    "plt.plot(1 - validation_scores_als[0][\"specificity\"], validation_scores-als[0][\"sensitivity\"])"
   ]
  },
  {
   "cell_type": "markdown",
   "metadata": {},
   "source": [
    "## Katz"
   ]
  },
  {
   "cell_type": "code",
   "execution_count": null,
   "metadata": {},
   "outputs": [],
   "source": [
    "def katz(t, beta, k):\n",
    "    katz = beta*t\n",
    "    a = beta*t\n",
    "    for i in range(k-1):\n",
    "        a = beta*a@t\n",
    "        katz = katz + a\n",
    "    return katz"
   ]
  },
  {
   "cell_type": "code",
   "execution_count": null,
   "metadata": {},
   "outputs": [],
   "source": [
    "def katz_2(t, beta, k):\n",
    "    t = t.astype(np.float64)\n",
    "    u, s, vt = svds(t, k=3)\n",
    "    s = np.diag(s)\n",
    "    \n",
    "    vtu = vt@u\n",
    "    svtu = s@vtu\n",
    "    \n",
    "    katz = beta*s\n",
    "    #a = beta*svtu\n",
    "    small_matrix = beta * s @ vtu\n",
    "    for i in range(k-1):\n",
    "        small_matrix = beta * small_matrix @ s\n",
    "        katz = katz + small_matrix\n",
    "        small_matrix = small_matrix @ vtu\n",
    "    katz = u @ katz @ vt\n",
    "    return katz"
   ]
  }
 ],
 "metadata": {
  "kernelspec": {
   "display_name": "Python 3",
   "language": "python",
   "name": "python3"
  },
  "language_info": {
   "codemirror_mode": {
    "name": "ipython",
    "version": 3
   },
   "file_extension": ".py",
   "mimetype": "text/x-python",
   "name": "python",
   "nbconvert_exporter": "python",
   "pygments_lexer": "ipython3",
   "version": "3.8.5"
  }
 },
 "nbformat": 4,
 "nbformat_minor": 4
}
