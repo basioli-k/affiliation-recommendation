{
 "cells": [
  {
   "cell_type": "code",
   "execution_count": 28,
   "metadata": {},
   "outputs": [],
   "source": [
    "import numpy as np\n",
    "import scipy\n",
    "from scipy.sparse import csc_matrix, bmat, load_npz\n",
    "from scipy.sparse.linalg import svds\n",
    "import matplotlib.pyplot as plt\n",
    "from tqdm import tqdm\n",
    "import random"
   ]
  },
  {
   "cell_type": "markdown",
   "metadata": {},
   "source": [
    "## Load Data"
   ]
  },
  {
   "cell_type": "code",
   "execution_count": 29,
   "metadata": {},
   "outputs": [],
   "source": [
    "s = load_npz(\"data/s.npz\")\n",
    "a_train = load_npz(\"data/a_train.npz\")\n",
    "a_test = load_npz(\"data/a_test.npz\")"
   ]
  },
  {
   "cell_type": "code",
   "execution_count": 30,
   "metadata": {},
   "outputs": [],
   "source": [
    "\"parametar koji mnozi s\"\n",
    "alpha = 1"
   ]
  },
  {
   "cell_type": "code",
   "execution_count": 31,
   "metadata": {},
   "outputs": [
    {
     "data": {
      "text/plain": [
       "<35616x35616 sparse matrix of type '<class 'numpy.float64'>'\n",
       "\twith 398044 stored elements in COOrdinate format>"
      ]
     },
     "execution_count": 31,
     "metadata": {},
     "output_type": "execute_result"
    }
   ],
   "source": [
    "\"citava matrica za trening\"\n",
    "c_train = bmat([[alpha*s, a_train], [a_train.transpose(), None]])\n",
    "c_train"
   ]
  },
  {
   "cell_type": "code",
   "execution_count": 32,
   "metadata": {},
   "outputs": [
    {
     "data": {
      "text/plain": [
       "<35616x35616 sparse matrix of type '<class 'numpy.float64'>'\n",
       "\twith 479906 stored elements in COOrdinate format>"
      ]
     },
     "execution_count": 32,
     "metadata": {},
     "output_type": "execute_result"
    }
   ],
   "source": [
    "\"citava matrica za test\"\n",
    "c_test = bmat([[alpha*s, a_test], [a_test.transpose(), None]])\n",
    "c_test"
   ]
  },
  {
   "cell_type": "markdown",
   "metadata": {},
   "source": [
    "## SVD"
   ]
  },
  {
   "cell_type": "code",
   "execution_count": 33,
   "metadata": {},
   "outputs": [
    {
     "name": "stdout",
     "output_type": "stream",
     "text": [
      "CPU times: user 41 s, sys: 14.2 s, total: 55.2 s\n",
      "Wall time: 7.8 s\n"
     ]
    }
   ],
   "source": [
    "\"svd ranga k trening matrice\"\n",
    "c_train = c_train.astype(np.float64)\n",
    "\"todo:trenirat k\"\n",
    "%time u, sig, vt = svds(c_train, k = 100)"
   ]
  },
  {
   "cell_type": "code",
   "execution_count": 34,
   "metadata": {},
   "outputs": [
    {
     "data": {
      "text/plain": [
       "[<matplotlib.lines.Line2D at 0x7f80796e2c70>]"
      ]
     },
     "execution_count": 34,
     "metadata": {},
     "output_type": "execute_result"
    },
    {
     "data": {
      "image/png": "[encoded data removed]",
      "text/plain": [
       "<Figure size 432x288 with 1 Axes>"
      ]
     },
     "metadata": {
      "needs_background": "light"
     },
     "output_type": "display_data"
    }
   ],
   "source": [
    "\"singularne vrijednosti\"\n",
    "plt.plot(sig[::-1])"
   ]
  },
  {
   "cell_type": "markdown",
   "metadata": {},
   "source": [
    "## Evaluacija SVD-a"
   ]
  },
  {
   "cell_type": "code",
   "execution_count": 70,
   "metadata": {},
   "outputs": [],
   "source": [
    "\"vrati listu (za k = 1:n) precisiona i recalla na testu za jednog usera\"\n",
    "def evaluate(i,n):\n",
    "    \"i = user za kojeg generiramo recommendatione\"\n",
    "    score1 = (u[i-1,:]@np.diag(sig)@vt)[-a_test.shape[1]:]\n",
    "    score1 = np.flip(np.argsort(score1))\n",
    "    \n",
    "    true_labels = c_test.getrow(i-1).toarray().flatten()[-a_test.shape[1]:]\n",
    "    \n",
    "    positives = np.unique(true_labels, return_counts = True)[1][1] if np.unique(true_labels, return_counts = True)[1].shape[0] == 2\\\n",
    "                                                                   else np.unique(true_labels, return_counts = True)[1][0] * np.unique(true_labels, return_counts = True)[0][0]\n",
    "    negatives = a_test.shape[1] - positives\n",
    "    \n",
    "    user_i_stats = []\n",
    "    for predictions in range(1,n):\n",
    "        recommendations = score1[:predictions]\n",
    "\n",
    "        true_positives = np.unique(true_labels[recommendations] == 1, return_counts = True)[1][1] if np.unique(true_labels[recommendations] == 1, return_counts = True)[1].shape[0] == 2\\\n",
    "                                                  else np.unique(true_labels[recommendations] == 1, return_counts = True)[1][0] * np.unique(true_labels[recommendations] == 1, return_counts = True)[0][0]\n",
    "        \n",
    "        true_negatives = negatives - (predictions - true_positives)\n",
    "        \n",
    "        precision = true_positives/predictions\n",
    "                \n",
    "        sensitivity = true_positives/positives if positives != 0 else 1\n",
    "        \n",
    "        specificity = true_negatives/negatives\n",
    "        \n",
    "        user_i_stats.append((precision, sensitivity, specificity))\n",
    "\n",
    "    return user_i_stats"
   ]
  },
  {
   "cell_type": "code",
   "execution_count": 71,
   "metadata": {},
   "outputs": [
    {
     "name": "stderr",
     "output_type": "stream",
     "text": [
      "100%|██████████| 15000/15000 [06:38<00:00, 37.61it/s]\n"
     ]
    }
   ],
   "source": [
    "\"evaluiraj za sve usere i svakom daj neki fiksni broj recommendationa\"\n",
    "stats = []\n",
    "for i in tqdm(range(s.shape[0])):\n",
    "    stats.append(evaluate(i = i, n = 50))"
   ]
  },
  {
   "cell_type": "code",
   "execution_count": 72,
   "metadata": {},
   "outputs": [],
   "source": [
    "pr_se_sp = []\n",
    "for n in zip(*stats):\n",
    "    pr_se_sp.append((np.mean([i for i,j,k in n]), np.mean([j for i,j,k in n]), np.mean([k for i,j,k in n])))"
   ]
  },
  {
   "cell_type": "code",
   "execution_count": 80,
   "metadata": {},
   "outputs": [
    {
     "data": {
      "image/png": "[encoded data removed]",
      "text/plain": [
       "<Figure size 432x288 with 1 Axes>"
      ]
     },
     "metadata": {
      "needs_background": "light"
     },
     "output_type": "display_data"
    }
   ],
   "source": [
    "\"graf iz papera, x = 1-specificity, y = sensitivity\"\n",
    "pss = np.array(pr_se_sp)\n",
    "plt.plot(1 - pss[:,2], pss[:,1])\n",
    "plt.ticklabel_format(style='sci', axis='x', scilimits=(0,0))"
   ]
  },
  {
   "cell_type": "code",
   "execution_count": 65,
   "metadata": {},
   "outputs": [],
   "source": [
    "np.savetxt(\"data/results.csv\", pr, delimiter=\",\")"
   ]
  },
  {
   "cell_type": "code",
   "execution_count": 66,
   "metadata": {},
   "outputs": [],
   "source": [
    "import pandas as pd\n",
    "r = pd.read_csv(\"data/results.csv\", header = None, names=[\"Precision\", \"Recall\"])"
   ]
  },
  {
   "cell_type": "markdown",
   "metadata": {},
   "source": [
    "## Katz"
   ]
  },
  {
   "cell_type": "code",
   "execution_count": 21,
   "metadata": {},
   "outputs": [],
   "source": [
    "def katz(t, beta, k):\n",
    "    katz = beta*t\n",
    "    a = beta*t\n",
    "    for i in range(k-1):\n",
    "        a = beta*a@t\n",
    "        katz = katz + a\n",
    "    return katz"
   ]
  },
  {
   "cell_type": "code",
   "execution_count": 22,
   "metadata": {},
   "outputs": [],
   "source": [
    "def katz_2(t, beta, k):\n",
    "    t = t.astype(np.float64)\n",
    "    u, s, vt = svds(t, k=3)\n",
    "    s = np.diag(s)\n",
    "    \n",
    "    vtu = vt@u\n",
    "    svtu = s@vtu\n",
    "    \n",
    "    katz = beta*s\n",
    "    #a = beta*svtu\n",
    "    small_matrix = beta * s @ vtu\n",
    "    for i in range(k-1):\n",
    "        small_matrix = beta * small_matrix @ s\n",
    "        katz = katz + small_matrix\n",
    "        small_matrix = small_matrix @ vtu\n",
    "    katz = u @ katz @ vt\n",
    "    return katz"
   ]
  }
 ],
 "metadata": {
  "kernelspec": {
   "display_name": "Python 3",
   "language": "python",
   "name": "python3"
  },
  "language_info": {
   "codemirror_mode": {
    "name": "ipython",
    "version": 3
   },
   "file_extension": ".py",
   "mimetype": "text/x-python",
   "name": "python",
   "nbconvert_exporter": "python",
   "pygments_lexer": "ipython3",
   "version": "3.8.5"
  }
 },
 "nbformat": 4,
 "nbformat_minor": 4
}
