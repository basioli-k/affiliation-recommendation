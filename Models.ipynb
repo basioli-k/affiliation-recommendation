{
 "cells": [
  {
   "cell_type": "code",
   "execution_count": 68,
   "metadata": {},
   "outputs": [],
   "source": [
    "import numpy as np\n",
    "import scipy\n",
    "from scipy.sparse import csc_matrix, bmat, load_npz\n",
    "from scipy.sparse.linalg import svds\n",
    "import matplotlib.pyplot as plt\n",
    "from tqdm import tqdm\n",
    "import random"
   ]
  },
  {
   "cell_type": "markdown",
   "metadata": {},
   "source": [
    "## Load Data"
   ]
  },
  {
   "cell_type": "code",
   "execution_count": 69,
   "metadata": {},
   "outputs": [],
   "source": [
    "s = load_npz(\"data/s.npz\")\n",
    "a_train = load_npz(\"data/a_train.npz\")\n",
    "a_test = load_npz(\"data/a_test.npz\")\n",
    "a_val = load_npz(\"data/a_val.npz\")"
   ]
  },
  {
   "cell_type": "code",
   "execution_count": 71,
   "metadata": {},
   "outputs": [],
   "source": [
    "def prepare_train_data(alpha, s, a_train, a_val):\n",
    "    c_train = bmat([[alpha*s, a_train], [a_train.transpose(), None]])\n",
    "    c_val = bmat([[alpha*s, a_val], [a_val.transpose(), None]])\n",
    "    #c_test = bmat([[alpha*s, a_test], [a_test.transpose(), None]])    \n",
    "    return c_train, c_val"
   ]
  },
  {
   "cell_type": "markdown",
   "metadata": {},
   "source": [
    "## SVD"
   ]
  },
  {
   "cell_type": "code",
   "execution_count": null,
   "metadata": {},
   "outputs": [],
   "source": [
    "def evaluate_latent_factors(u, sig, vt, c_val):\n",
    "    "
   ]
  },
  {
   "cell_type": "code",
   "execution_count": 72,
   "metadata": {},
   "outputs": [],
   "source": [
    "def latent_factors_model(alpha, svd_rank, s, a_train, a_val):\n",
    "    c_train, c_val = prepare_train_data(alpha, s, a_train, a_val)\n",
    "    c_train = c_train.astype(np.float64)\n",
    "    c_val = c_val.astype(np.float64)\n",
    "    u, sig, vt = svds(c_train, k = svd_rank)\n",
    "    results = evaluate_latent_factors(u, sig, vt, c_val)\n",
    "    score = get_score(results)\n",
    "    return score"
   ]
  },
  {
   "cell_type": "code",
   "execution_count": null,
   "metadata": {},
   "outputs": [],
   "source": [
    "alphas = []\n",
    "svd_ranks = []"
   ]
  },
  {
   "cell_type": "code",
   "execution_count": null,
   "metadata": {},
   "outputs": [],
   "source": [
    "def validate_latent_factor_model(alphas, svd_ranks, s, a_train, a_val):\n",
    "    validation_scores = []\n",
    "    for alpha in alphas:\n",
    "        for svd_rank in svd_ranks:\n",
    "            validation_scores.append((alpha, svd_rank, evaluate_latent_factors_model(alpha, svd_rank, s, a_train, a_val))"
   ]
  },
  {
   "cell_type": "code",
   "execution_count": 15,
   "metadata": {},
   "outputs": [
    {
     "data": {
      "text/plain": [
       "[<matplotlib.lines.Line2D at 0x7f34ca648f70>]"
      ]
     },
     "execution_count": 15,
     "metadata": {},
     "output_type": "execute_result"
    },
    {
     "data": {
      "image/png": "[encoded data removed]",
      "text/plain": [
       "<Figure size 432x288 with 1 Axes>"
      ]
     },
     "metadata": {
      "needs_background": "light"
     },
     "output_type": "display_data"
    }
   ],
   "source": [
    "\"singularne vrijednosti\"\n",
    "plt.plot(sig[::-1])"
   ]
  },
  {
   "cell_type": "markdown",
   "metadata": {},
   "source": [
    "## Evaluacija SVD-a"
   ]
  },
  {
   "cell_type": "code",
   "execution_count": 64,
   "metadata": {},
   "outputs": [],
   "source": [
    "\"vrati listu (za k = 1:n) precisiona i recalla na testu za jednog usera\"\n",
    "def evaluate_user(i,n, u, sig, vt, c_train, c_val, n_groups):\n",
    "    \"i = user za kojeg generiramo recommendatione\"\n",
    "    score = (u[i,:]@np.diag(sig)@vt)[-n_groups:]\n",
    "    \n",
    "    true_labels = c_val.getrow(i-1).toarray().flatten()[-n_groups:]\n",
    "    train_labels = c_train.getrow(i-1).toarray().flatten()[-n_groups:]\n",
    "    \n",
    "    score = np.multiply(score, np.logical_not(train_labels))\n",
    "    \n",
    "    score_index = np.flip(np.argsort(score))\n",
    "    \n",
    "    positives = np.sum(true_labels)\n",
    "    \n",
    "    negatives = n_groups - positives\n",
    "\n",
    "    user_i_stats = []\n",
    "    for predictions in range(1,n+1):\n",
    "        recommendations = score_index[:predictions]\n",
    "        \n",
    "        true_positives = np.sum(true_labels[recommendations] == 1)\n",
    "\n",
    "        true_negatives = negatives - (predictions - true_positives)\n",
    "        \n",
    "        precision = true_positives/predictions\n",
    "                \n",
    "        sensitivity = true_positives/positives if positives != 0 else 1\n",
    "        \n",
    "        specificity = true_negatives/negatives\n",
    "        \n",
    "        user_i_stats.append((precision, sensitivity, specificity))\n",
    "\n",
    "    return user_i_stats"
   ]
  },
  {
   "cell_type": "code",
   "execution_count": 65,
   "metadata": {},
   "outputs": [
    {
     "name": "stderr",
     "output_type": "stream",
     "text": [
      "100%|██████████| 500/500 [00:06<00:00, 71.67it/s]\n"
     ]
    }
   ],
   "source": [
    "\"evaluiraj za sve usere i svakom daj neki fiksni broj recommendationa\"\n",
    "stats = []\n",
    "for i in tqdm(range(s.shape[0])):\n",
    "    stats.append(evaluate(i = i, n = 50))"
   ]
  },
  {
   "cell_type": "code",
   "execution_count": 66,
   "metadata": {},
   "outputs": [],
   "source": [
    "pr_se_sp = []\n",
    "for n in zip(*stats):\n",
    "    pr_se_sp.append((np.mean([i for i,j,k in n]), np.mean([j for i,j,k in n]), np.mean([k for i,j,k in n])))"
   ]
  },
  {
   "cell_type": "code",
   "execution_count": 67,
   "metadata": {},
   "outputs": [
    {
     "data": {
      "image/png": "[encoded data removed]",
      "text/plain": [
       "<Figure size 432x288 with 1 Axes>"
      ]
     },
     "metadata": {
      "needs_background": "light"
     },
     "output_type": "display_data"
    }
   ],
   "source": [
    "\"graf iz papera, x = 1-specificity, y = sensitivity\"\n",
    "pss = np.array(pr_se_sp)\n",
    "plt.plot(1 - pss[:,2], pss[:,1])\n",
    "plt.ticklabel_format(style='sci', axis='x', scilimits=(0,0))"
   ]
  },
  {
   "cell_type": "code",
   "execution_count": 119,
   "metadata": {},
   "outputs": [],
   "source": [
    "#np.savetxt(\"data/results.csv\", pss, delimiter=\",\")"
   ]
  },
  {
   "cell_type": "code",
   "execution_count": 21,
   "metadata": {},
   "outputs": [],
   "source": [
    "import pandas as pd\n",
    "r = pd.read_csv(\"data/results.csv\", header = None, names=[\"Precision\", \"Sensitivity\", \"Specificity\"])"
   ]
  },
  {
   "cell_type": "code",
   "execution_count": 25,
   "metadata": {},
   "outputs": [
    {
     "data": {
      "text/html": [
       "<div>\n",
       "<style scoped>\n",
       "    .dataframe tbody tr th:only-of-type {\n",
       "        vertical-align: middle;\n",
       "    }\n",
       "\n",
       "    .dataframe tbody tr th {\n",
       "        vertical-align: top;\n",
       "    }\n",
       "\n",
       "    .dataframe thead th {\n",
       "        text-align: right;\n",
       "    }\n",
       "</style>\n",
       "<table border=\"1\" class=\"dataframe\">\n",
       "  <thead>\n",
       "    <tr style=\"text-align: right;\">\n",
       "      <th></th>\n",
       "      <th>Precision</th>\n",
       "      <th>Sensitivity</th>\n",
       "      <th>Specificity</th>\n",
       "    </tr>\n",
       "  </thead>\n",
       "  <tbody>\n",
       "    <tr>\n",
       "      <th>0</th>\n",
       "      <td>0.137467</td>\n",
       "      <td>0.206453</td>\n",
       "      <td>0.999958</td>\n",
       "    </tr>\n",
       "    <tr>\n",
       "      <th>1</th>\n",
       "      <td>0.111700</td>\n",
       "      <td>0.238927</td>\n",
       "      <td>0.999914</td>\n",
       "    </tr>\n",
       "    <tr>\n",
       "      <th>2</th>\n",
       "      <td>0.096200</td>\n",
       "      <td>0.262414</td>\n",
       "      <td>0.999868</td>\n",
       "    </tr>\n",
       "    <tr>\n",
       "      <th>3</th>\n",
       "      <td>0.085433</td>\n",
       "      <td>0.280164</td>\n",
       "      <td>0.999823</td>\n",
       "    </tr>\n",
       "    <tr>\n",
       "      <th>4</th>\n",
       "      <td>0.076987</td>\n",
       "      <td>0.294791</td>\n",
       "      <td>0.999776</td>\n",
       "    </tr>\n",
       "    <tr>\n",
       "      <th>5</th>\n",
       "      <td>0.071100</td>\n",
       "      <td>0.308671</td>\n",
       "      <td>0.999730</td>\n",
       "    </tr>\n",
       "    <tr>\n",
       "      <th>6</th>\n",
       "      <td>0.065905</td>\n",
       "      <td>0.320528</td>\n",
       "      <td>0.999683</td>\n",
       "    </tr>\n",
       "    <tr>\n",
       "      <th>7</th>\n",
       "      <td>0.061792</td>\n",
       "      <td>0.331388</td>\n",
       "      <td>0.999636</td>\n",
       "    </tr>\n",
       "    <tr>\n",
       "      <th>8</th>\n",
       "      <td>0.058326</td>\n",
       "      <td>0.340930</td>\n",
       "      <td>0.999589</td>\n",
       "    </tr>\n",
       "    <tr>\n",
       "      <th>9</th>\n",
       "      <td>0.055267</td>\n",
       "      <td>0.349500</td>\n",
       "      <td>0.999542</td>\n",
       "    </tr>\n",
       "    <tr>\n",
       "      <th>10</th>\n",
       "      <td>0.052364</td>\n",
       "      <td>0.356936</td>\n",
       "      <td>0.999494</td>\n",
       "    </tr>\n",
       "    <tr>\n",
       "      <th>11</th>\n",
       "      <td>0.049867</td>\n",
       "      <td>0.363872</td>\n",
       "      <td>0.999447</td>\n",
       "    </tr>\n",
       "    <tr>\n",
       "      <th>12</th>\n",
       "      <td>0.047605</td>\n",
       "      <td>0.370210</td>\n",
       "      <td>0.999399</td>\n",
       "    </tr>\n",
       "    <tr>\n",
       "      <th>13</th>\n",
       "      <td>0.045586</td>\n",
       "      <td>0.376403</td>\n",
       "      <td>0.999352</td>\n",
       "    </tr>\n",
       "    <tr>\n",
       "      <th>14</th>\n",
       "      <td>0.043876</td>\n",
       "      <td>0.382366</td>\n",
       "      <td>0.999304</td>\n",
       "    </tr>\n",
       "    <tr>\n",
       "      <th>15</th>\n",
       "      <td>0.042258</td>\n",
       "      <td>0.387763</td>\n",
       "      <td>0.999257</td>\n",
       "    </tr>\n",
       "    <tr>\n",
       "      <th>16</th>\n",
       "      <td>0.040855</td>\n",
       "      <td>0.393835</td>\n",
       "      <td>0.999209</td>\n",
       "    </tr>\n",
       "    <tr>\n",
       "      <th>17</th>\n",
       "      <td>0.039489</td>\n",
       "      <td>0.398713</td>\n",
       "      <td>0.999161</td>\n",
       "    </tr>\n",
       "    <tr>\n",
       "      <th>18</th>\n",
       "      <td>0.038281</td>\n",
       "      <td>0.404376</td>\n",
       "      <td>0.999114</td>\n",
       "    </tr>\n",
       "    <tr>\n",
       "      <th>19</th>\n",
       "      <td>0.037120</td>\n",
       "      <td>0.408736</td>\n",
       "      <td>0.999066</td>\n",
       "    </tr>\n",
       "    <tr>\n",
       "      <th>20</th>\n",
       "      <td>0.036044</td>\n",
       "      <td>0.413608</td>\n",
       "      <td>0.999018</td>\n",
       "    </tr>\n",
       "    <tr>\n",
       "      <th>21</th>\n",
       "      <td>0.034979</td>\n",
       "      <td>0.417509</td>\n",
       "      <td>0.998970</td>\n",
       "    </tr>\n",
       "    <tr>\n",
       "      <th>22</th>\n",
       "      <td>0.033957</td>\n",
       "      <td>0.420608</td>\n",
       "      <td>0.998922</td>\n",
       "    </tr>\n",
       "    <tr>\n",
       "      <th>23</th>\n",
       "      <td>0.033036</td>\n",
       "      <td>0.424161</td>\n",
       "      <td>0.998874</td>\n",
       "    </tr>\n",
       "    <tr>\n",
       "      <th>24</th>\n",
       "      <td>0.032211</td>\n",
       "      <td>0.427687</td>\n",
       "      <td>0.998826</td>\n",
       "    </tr>\n",
       "    <tr>\n",
       "      <th>25</th>\n",
       "      <td>0.031433</td>\n",
       "      <td>0.431465</td>\n",
       "      <td>0.998778</td>\n",
       "    </tr>\n",
       "    <tr>\n",
       "      <th>26</th>\n",
       "      <td>0.030691</td>\n",
       "      <td>0.435159</td>\n",
       "      <td>0.998730</td>\n",
       "    </tr>\n",
       "    <tr>\n",
       "      <th>27</th>\n",
       "      <td>0.029974</td>\n",
       "      <td>0.438327</td>\n",
       "      <td>0.998682</td>\n",
       "    </tr>\n",
       "    <tr>\n",
       "      <th>28</th>\n",
       "      <td>0.029264</td>\n",
       "      <td>0.440868</td>\n",
       "      <td>0.998634</td>\n",
       "    </tr>\n",
       "    <tr>\n",
       "      <th>29</th>\n",
       "      <td>0.028620</td>\n",
       "      <td>0.443698</td>\n",
       "      <td>0.998586</td>\n",
       "    </tr>\n",
       "    <tr>\n",
       "      <th>30</th>\n",
       "      <td>0.028034</td>\n",
       "      <td>0.446804</td>\n",
       "      <td>0.998538</td>\n",
       "    </tr>\n",
       "    <tr>\n",
       "      <th>31</th>\n",
       "      <td>0.027483</td>\n",
       "      <td>0.449549</td>\n",
       "      <td>0.998490</td>\n",
       "    </tr>\n",
       "    <tr>\n",
       "      <th>32</th>\n",
       "      <td>0.026921</td>\n",
       "      <td>0.452227</td>\n",
       "      <td>0.998442</td>\n",
       "    </tr>\n",
       "    <tr>\n",
       "      <th>33</th>\n",
       "      <td>0.026392</td>\n",
       "      <td>0.454882</td>\n",
       "      <td>0.998394</td>\n",
       "    </tr>\n",
       "    <tr>\n",
       "      <th>34</th>\n",
       "      <td>0.025884</td>\n",
       "      <td>0.457808</td>\n",
       "      <td>0.998346</td>\n",
       "    </tr>\n",
       "    <tr>\n",
       "      <th>35</th>\n",
       "      <td>0.025380</td>\n",
       "      <td>0.460044</td>\n",
       "      <td>0.998298</td>\n",
       "    </tr>\n",
       "    <tr>\n",
       "      <th>36</th>\n",
       "      <td>0.024915</td>\n",
       "      <td>0.462407</td>\n",
       "      <td>0.998250</td>\n",
       "    </tr>\n",
       "    <tr>\n",
       "      <th>37</th>\n",
       "      <td>0.024475</td>\n",
       "      <td>0.464868</td>\n",
       "      <td>0.998202</td>\n",
       "    </tr>\n",
       "    <tr>\n",
       "      <th>38</th>\n",
       "      <td>0.024046</td>\n",
       "      <td>0.467236</td>\n",
       "      <td>0.998154</td>\n",
       "    </tr>\n",
       "    <tr>\n",
       "      <th>39</th>\n",
       "      <td>0.023602</td>\n",
       "      <td>0.468939</td>\n",
       "      <td>0.998105</td>\n",
       "    </tr>\n",
       "    <tr>\n",
       "      <th>40</th>\n",
       "      <td>0.023229</td>\n",
       "      <td>0.471344</td>\n",
       "      <td>0.998057</td>\n",
       "    </tr>\n",
       "    <tr>\n",
       "      <th>41</th>\n",
       "      <td>0.022833</td>\n",
       "      <td>0.473480</td>\n",
       "      <td>0.998009</td>\n",
       "    </tr>\n",
       "    <tr>\n",
       "      <th>42</th>\n",
       "      <td>0.022448</td>\n",
       "      <td>0.475280</td>\n",
       "      <td>0.997961</td>\n",
       "    </tr>\n",
       "    <tr>\n",
       "      <th>43</th>\n",
       "      <td>0.022091</td>\n",
       "      <td>0.477162</td>\n",
       "      <td>0.997913</td>\n",
       "    </tr>\n",
       "    <tr>\n",
       "      <th>44</th>\n",
       "      <td>0.021750</td>\n",
       "      <td>0.479035</td>\n",
       "      <td>0.997864</td>\n",
       "    </tr>\n",
       "    <tr>\n",
       "      <th>45</th>\n",
       "      <td>0.021419</td>\n",
       "      <td>0.480765</td>\n",
       "      <td>0.997816</td>\n",
       "    </tr>\n",
       "    <tr>\n",
       "      <th>46</th>\n",
       "      <td>0.021108</td>\n",
       "      <td>0.482725</td>\n",
       "      <td>0.997768</td>\n",
       "    </tr>\n",
       "    <tr>\n",
       "      <th>47</th>\n",
       "      <td>0.020783</td>\n",
       "      <td>0.484253</td>\n",
       "      <td>0.997720</td>\n",
       "    </tr>\n",
       "    <tr>\n",
       "      <th>48</th>\n",
       "      <td>0.020484</td>\n",
       "      <td>0.486219</td>\n",
       "      <td>0.997672</td>\n",
       "    </tr>\n",
       "  </tbody>\n",
       "</table>\n",
       "</div>"
      ],
      "text/plain": [
       "    Precision  Sensitivity  Specificity\n",
       "0    0.137467     0.206453     0.999958\n",
       "1    0.111700     0.238927     0.999914\n",
       "2    0.096200     0.262414     0.999868\n",
       "3    0.085433     0.280164     0.999823\n",
       "4    0.076987     0.294791     0.999776\n",
       "5    0.071100     0.308671     0.999730\n",
       "6    0.065905     0.320528     0.999683\n",
       "7    0.061792     0.331388     0.999636\n",
       "8    0.058326     0.340930     0.999589\n",
       "9    0.055267     0.349500     0.999542\n",
       "10   0.052364     0.356936     0.999494\n",
       "11   0.049867     0.363872     0.999447\n",
       "12   0.047605     0.370210     0.999399\n",
       "13   0.045586     0.376403     0.999352\n",
       "14   0.043876     0.382366     0.999304\n",
       "15   0.042258     0.387763     0.999257\n",
       "16   0.040855     0.393835     0.999209\n",
       "17   0.039489     0.398713     0.999161\n",
       "18   0.038281     0.404376     0.999114\n",
       "19   0.037120     0.408736     0.999066\n",
       "20   0.036044     0.413608     0.999018\n",
       "21   0.034979     0.417509     0.998970\n",
       "22   0.033957     0.420608     0.998922\n",
       "23   0.033036     0.424161     0.998874\n",
       "24   0.032211     0.427687     0.998826\n",
       "25   0.031433     0.431465     0.998778\n",
       "26   0.030691     0.435159     0.998730\n",
       "27   0.029974     0.438327     0.998682\n",
       "28   0.029264     0.440868     0.998634\n",
       "29   0.028620     0.443698     0.998586\n",
       "30   0.028034     0.446804     0.998538\n",
       "31   0.027483     0.449549     0.998490\n",
       "32   0.026921     0.452227     0.998442\n",
       "33   0.026392     0.454882     0.998394\n",
       "34   0.025884     0.457808     0.998346\n",
       "35   0.025380     0.460044     0.998298\n",
       "36   0.024915     0.462407     0.998250\n",
       "37   0.024475     0.464868     0.998202\n",
       "38   0.024046     0.467236     0.998154\n",
       "39   0.023602     0.468939     0.998105\n",
       "40   0.023229     0.471344     0.998057\n",
       "41   0.022833     0.473480     0.998009\n",
       "42   0.022448     0.475280     0.997961\n",
       "43   0.022091     0.477162     0.997913\n",
       "44   0.021750     0.479035     0.997864\n",
       "45   0.021419     0.480765     0.997816\n",
       "46   0.021108     0.482725     0.997768\n",
       "47   0.020783     0.484253     0.997720\n",
       "48   0.020484     0.486219     0.997672"
      ]
     },
     "execution_count": 25,
     "metadata": {},
     "output_type": "execute_result"
    }
   ],
   "source": [
    "r"
   ]
  },
  {
   "cell_type": "code",
   "execution_count": 23,
   "metadata": {},
   "outputs": [
    {
     "data": {
      "image/png": "[encoded data removed]",
      "text/plain": [
       "<Figure size 432x288 with 1 Axes>"
      ]
     },
     "metadata": {
      "needs_background": "light"
     },
     "output_type": "display_data"
    }
   ],
   "source": [
    "plt.plot(1 - r[\"Specificity\"], r[\"Sensitivity\"])\n",
    "plt.ticklabel_format(style='sci', axis='x', scilimits=(0,0))"
   ]
  },
  {
   "cell_type": "markdown",
   "metadata": {},
   "source": [
    "## Katz"
   ]
  },
  {
   "cell_type": "code",
   "execution_count": 21,
   "metadata": {},
   "outputs": [],
   "source": [
    "def katz(t, beta, k):\n",
    "    katz = beta*t\n",
    "    a = beta*t\n",
    "    for i in range(k-1):\n",
    "        a = beta*a@t\n",
    "        katz = katz + a\n",
    "    return katz"
   ]
  },
  {
   "cell_type": "code",
   "execution_count": 22,
   "metadata": {},
   "outputs": [],
   "source": [
    "def katz_2(t, beta, k):\n",
    "    t = t.astype(np.float64)\n",
    "    u, s, vt = svds(t, k=3)\n",
    "    s = np.diag(s)\n",
    "    \n",
    "    vtu = vt@u\n",
    "    svtu = s@vtu\n",
    "    \n",
    "    katz = beta*s\n",
    "    #a = beta*svtu\n",
    "    small_matrix = beta * s @ vtu\n",
    "    for i in range(k-1):\n",
    "        small_matrix = beta * small_matrix @ s\n",
    "        katz = katz + small_matrix\n",
    "        small_matrix = small_matrix @ vtu\n",
    "    katz = u @ katz @ vt\n",
    "    return katz"
   ]
  }
 ],
 "metadata": {
  "kernelspec": {
   "display_name": "Python 3",
   "language": "python",
   "name": "python3"
  },
  "language_info": {
   "codemirror_mode": {
    "name": "ipython",
    "version": 3
   },
   "file_extension": ".py",
   "mimetype": "text/x-python",
   "name": "python",
   "nbconvert_exporter": "python",
   "pygments_lexer": "ipython3",
   "version": "3.8.5"
  }
 },
 "nbformat": 4,
 "nbformat_minor": 4
}
