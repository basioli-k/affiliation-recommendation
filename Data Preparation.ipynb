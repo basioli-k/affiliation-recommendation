{
 "cells": [
  {
   "cell_type": "markdown",
   "metadata": {},
   "source": [
    "## UPOZORENJA\n",
    "- ćelija za učitavanje podataka treba malo više vremena (get_user_data), pozvati jednom i nakon toga zakomentirati"
   ]
  },
  {
   "cell_type": "markdown",
   "metadata": {},
   "source": [
    "## TODO-ovi\n",
    "- smisliti kako ćemo odabrati bolji dio podataka"
   ]
  },
  {
   "cell_type": "code",
   "execution_count": 22,
   "metadata": {},
   "outputs": [],
   "source": [
    "import numpy as np\n",
    "import scipy\n",
    "from scipy.sparse import csc_matrix, bmat, save_npz, load_npz\n",
    "from scipy.sparse.linalg import svds\n",
    "import matplotlib.pyplot as plt\n",
    "from tqdm import tqdm\n",
    "import random\n",
    "import copy"
   ]
  },
  {
   "cell_type": "markdown",
   "metadata": {},
   "source": [
    "## Data preparation\n",
    "- reading user data from given files (we are considering only users that are in some group here)\n",
    "- random sample of filtered users\n",
    "- normalizing user data (renaming users to elements of $\\{0, ..., n-1\\}$)"
   ]
  },
  {
   "cell_type": "code",
   "execution_count": 23,
   "metadata": {},
   "outputs": [],
   "source": [
    "def normalize_users(users):\n",
    "    usrs = list(set(users.keys()).union(set([link  for key in users for link in users[key][\"links\"] ])))\n",
    "    groups = list(set([group for key in users for group in users[key][\"groups\"] ]))\n",
    "    normalized_users = {}\n",
    "    for user in users:\n",
    "        normalized_users[usrs.index(user)] = {}\n",
    "        normalized_users[usrs.index(user)][\"links\"] = [usrs.index(link) for link in users[user][\"links\"]]\n",
    "        normalized_users[usrs.index(user)][\"groups\"] = [groups.index(group) for group in users[user][\"groups\"]]\n",
    "    return normalized_users    "
   ]
  },
  {
   "cell_type": "code",
   "execution_count": 24,
   "metadata": {},
   "outputs": [],
   "source": [
    "def get_user_data(links_path, groups_path):\n",
    "    # return a list of two dictionaries-users and groups\n",
    "    # users-return all user data where every user is in at least one group\n",
    "    links = np.loadtxt(links_path)\n",
    "    groups = np.loadtxt(groups_path)\n",
    "    users = {} # key is user, value is dict containing all of his links and all of his groups\n",
    "    groups_info = {} # key is group, value is dict containing all of its users\n",
    "    \n",
    "    for edge in groups:\n",
    "        if edge[0] not in users:\n",
    "            users[edge[0]] = { \"links\": [], \"groups\":[] }\n",
    "        users[edge[0]][\"groups\"].append(edge[1])\n",
    "        if edge[1] not in groups_info:\n",
    "            groups_info[edge[1]] = { \"users\": [] }\n",
    "        groups_info[edge[1]][\"users\"].append(edge[0])\n",
    "        \n",
    "    for link in links:\n",
    "        if link[0] not in users or link[1] not in users: continue\n",
    "        if link[1] in users[link[0]][\"links\"]: continue\n",
    "        if link[0] in users[link[1]][\"links\"]: continue\n",
    "        users[link[0]][\"links\"].append(link[1])\n",
    "        users[link[1]][\"links\"].append(link[0])\n",
    "    \n",
    "    return [users, groups_info]"
   ]
  },
  {
   "cell_type": "code",
   "execution_count": 25,
   "metadata": {},
   "outputs": [],
   "source": [
    "def user_friends(user, groups_users_list):\n",
    "    # return a list of all user's friends \n",
    "    connections=[friend for friend in groups_users_list[0][user][\"links\"]]\n",
    "    return connections"
   ]
  },
  {
   "cell_type": "code",
   "execution_count": 26,
   "metadata": {},
   "outputs": [],
   "source": [
    "def user_group_friends(user, groups_users_list):\n",
    "    # return a list of all user's group friends \n",
    "    connections=[]\n",
    "    for group in groups_users_list[0][user][\"groups\"]:\n",
    "        for friend in groups_users_list[1][group][\"users\"]:\n",
    "            connections.append(friend)\n",
    "    return connections"
   ]
  },
  {
   "cell_type": "code",
   "execution_count": 27,
   "metadata": {},
   "outputs": [],
   "source": [
    "def reduce_group_friends(user, all_users_and_groups, k):\n",
    "    #uzme usera i vraca one prijatelje po grupi s kojima ima slican ukus\n",
    "    # k je parametat- koliko istih grupa trebaju imat\n",
    "    friends=user_group_friends(user, all_users_and_groups)\n",
    "    l2=[]\n",
    "    for friend in friends:\n",
    "        l=[value for value in all_users_and_groups[0][user][\"groups\"] if value in all_users_and_groups[0][friend][\"groups\"]]\n",
    "        if (len(l)>=k):\n",
    "            l2.append(friend)\n",
    "    return l2"
   ]
  },
  {
   "cell_type": "code",
   "execution_count": 28,
   "metadata": {},
   "outputs": [],
   "source": [
    "def tree(user1,groups_users_list,i):\n",
    "    # returns a network that contains all connected users as many times as they appear in the network\n",
    "    last_added=[user1]\n",
    "    network=[user1]\n",
    "    while i!=0:\n",
    "        tree_level=[]\n",
    "        for friend in last_added:\n",
    "            tree_level.extend(user_friends(friend, groups_users_list))\n",
    "        last_added=list(set(tree_level)-set(network))\n",
    "        network.extend(tree_level)\n",
    "        i=i-1\n",
    "    return network"
   ]
  },
  {
   "cell_type": "code",
   "execution_count": 29,
   "metadata": {},
   "outputs": [],
   "source": [
    "def frequency(list):\n",
    "    frequency = {}\n",
    "    for item in list:\n",
    "        if item in frequency:\n",
    "            frequency[item] += 1\n",
    "        else:\n",
    "            frequency[item] = 1\n",
    "    return frequency"
   ]
  },
  {
   "cell_type": "code",
   "execution_count": 30,
   "metadata": {},
   "outputs": [],
   "source": [
    "def reduce_network(network, groups_users_list):\n",
    "    dict_freq=frequency(network)\n",
    "    print(sum(dict_freq.values())/len(dict_freq.values()))\n",
    "    # leaves only those users who appear at least 2 times in network and are in at least 4 groups\n",
    "    network1=[user for user in dict_freq if (dict_freq[user]>=2 and len(groups_users_list[0][user][\"groups\"])>3)]\n",
    "    print(len(network1))\n",
    "    return network1"
   ]
  },
  {
   "cell_type": "code",
   "execution_count": 31,
   "metadata": {},
   "outputs": [],
   "source": [
    "def group_friends_list(network1, groups_users_list):\n",
    "    # returns a list containing group friends of each user in the network\n",
    "    group_friends=[]\n",
    "    for user in network1:\n",
    "        group_friends.extend(reduce_group_friends(user, groups_users_list,4))\n",
    "    all_group_friends=list(set(group_friends))\n",
    "    return all_group_friends"
   ]
  },
  {
   "cell_type": "code",
   "execution_count": 32,
   "metadata": {},
   "outputs": [],
   "source": [
    "def network_union(root, groups_users_list, i):\n",
    "    network=tree(root,groups_users_list,i)\n",
    "    network1=reduce_network(network, groups_users_list)\n",
    "    group_friends=group_friends_list(network1, groups_users_list)\n",
    "    final_network=list(set(network1).union(set(group_friends)))\n",
    "    return final_network"
   ]
  },
  {
   "cell_type": "code",
   "execution_count": 33,
   "metadata": {},
   "outputs": [],
   "source": [
    "def dict_users_groups(network, groups_users_list):\n",
    "    network_dict = {}\n",
    "    for user in network:\n",
    "        network_dict[user] = {}\n",
    "        network_dict[user][\"links\"] = [link for link in groups_users_list[0][user][\"links\"] if link in network]\n",
    "        network_dict[user][\"groups\"] = [group for group in groups_users_list[0][user][\"groups\"]]\n",
    "    return network_dict "
   ]
  },
  {
   "cell_type": "code",
   "execution_count": 34,
   "metadata": {
    "scrolled": true
   },
   "outputs": [
    {
     "name": "stdout",
     "output_type": "stream",
     "text": [
      "CPU times: user 28.5 s, sys: 116 ms, total: 28.6 s\n",
      "Wall time: 28.6 s\n"
     ]
    }
   ],
   "source": [
    "# load data\n",
    "# this takes some time so comment it out after first run\n",
    "%time all_users_and_groups = get_user_data(\"data/raw/release-youtube-links.txt\", \"data/raw/release-youtube-groupmemberships.txt\")"
   ]
  },
  {
   "cell_type": "code",
   "execution_count": 35,
   "metadata": {},
   "outputs": [
    {
     "name": "stdout",
     "output_type": "stream",
     "text": [
      "10.049092496560483\n",
      "13427\n",
      "CPU times: user 9min 8s, sys: 158 ms, total: 9min 8s\n",
      "Wall time: 9min 8s\n"
     ]
    }
   ],
   "source": [
    "%time final_network_dict=dict_users_groups(network_union(1,all_users_and_groups,5), all_users_and_groups)"
   ]
  },
  {
   "cell_type": "code",
   "execution_count": 36,
   "metadata": {},
   "outputs": [
    {
     "name": "stdout",
     "output_type": "stream",
     "text": [
      "16398\n",
      "mean number of friends per user: 11.765459202341749\n",
      "mode number of friends per user: 1\n",
      "min number of friends per user: 0\n",
      "min number of groups per user: 4\n",
      "mean number of groups per user: 10.80253689474326\n",
      "mode number of groups per user: 4\n"
     ]
    }
   ],
   "source": [
    "from statistics import mode\n",
    "print(len(final_network_dict))\n",
    "print(\"mean number of friends per user: \" + str(np.mean([len(final_network_dict[user]['links']) for user in final_network_dict])))\n",
    "print(\"mode number of friends per user: \" + str(mode([len(final_network_dict[user]['links']) for user in final_network_dict])))\n",
    "print(\"min number of friends per user: \" + str(np.min([len(final_network_dict[user]['links']) for user in final_network_dict])))\n",
    "print(\"min number of groups per user: \" + str(np.min([len(final_network_dict[user]['groups']) for user in final_network_dict])))\n",
    "print(\"mean number of groups per user: \" + str(np.mean([len(final_network_dict[user]['groups']) for user in final_network_dict])))\n",
    "print(\"mode number of groups per user: \" + str(mode([len(final_network_dict[user]['groups']) for user in final_network_dict])))"
   ]
  },
  {
   "cell_type": "code",
   "execution_count": 37,
   "metadata": {},
   "outputs": [],
   "source": [
    "def filter_data(final_network, groups_users_list):\n",
    "    users = {user:groups_users_list[0][user] for user in final_network}\n",
    "    return users"
   ]
  },
  {
   "cell_type": "code",
   "execution_count": 38,
   "metadata": {},
   "outputs": [],
   "source": [
    "def get_adjacency_matrix(users, key, row_num, col_num):\n",
    "    # constructs adjacency matrix\n",
    "    # rows are indexed by user\n",
    "    # cols are indexed based on the key\n",
    "    row = np.array([])\n",
    "    column = np.array([])\n",
    "    value = np.array([])\n",
    "    \n",
    "    for user in users:\n",
    "        for element in users[user][key]:\n",
    "            row = np.append(row, user)\n",
    "            column = np.append(column, element)\n",
    "            value = np.append(value, 1)\n",
    "    \n",
    "    print(max(row), max(column), row_num)\n",
    "    s = csc_matrix((value, (row, column)), shape = (row_num,col_num)) \n",
    "    return s"
   ]
  },
  {
   "cell_type": "code",
   "execution_count": 39,
   "metadata": {},
   "outputs": [],
   "source": [
    "# number of users\n",
    "# WARNING: small number of users will usually result in a small number of links between users\n",
    "k = 1000"
   ]
  },
  {
   "cell_type": "code",
   "execution_count": 40,
   "metadata": {
    "scrolled": true
   },
   "outputs": [],
   "source": [
    "# quickly gets a filtered subset of users\n",
    "#filtered_users = filter_users(k, all_users)"
   ]
  },
  {
   "cell_type": "code",
   "execution_count": 41,
   "metadata": {},
   "outputs": [],
   "source": [
    "final_network_dict_norm=normalize_users(final_network_dict)"
   ]
  },
  {
   "cell_type": "code",
   "execution_count": 42,
   "metadata": {},
   "outputs": [],
   "source": [
    "import json\n",
    "with open(\"graph.json\", \"w\") as outfile:\n",
    "    json.dump(final_network_dict_norm, outfile)"
   ]
  },
  {
   "cell_type": "code",
   "execution_count": 54,
   "metadata": {},
   "outputs": [
    {
     "name": "stdout",
     "output_type": "stream",
     "text": [
      "16395.0 16395.0 16398\n"
     ]
    },
    {
     "data": {
      "text/plain": [
       "<16398x16398 sparse matrix of type '<class 'numpy.float64'>'\n",
       "\twith 192930 stored elements in Compressed Sparse Column format>"
      ]
     },
     "execution_count": 54,
     "metadata": {},
     "output_type": "execute_result"
    }
   ],
   "source": [
    "# S matrix, matrix of links between users\n",
    "s = get_adjacency_matrix(final_network_dict_norm,'links' ,len(final_network_dict_norm), len(final_network_dict_norm))\n",
    "s"
   ]
  },
  {
   "cell_type": "code",
   "execution_count": 55,
   "metadata": {},
   "outputs": [],
   "source": [
    "#stednja memorije\n",
    "save_npz(\"data/yt_s.npz\", s)\n",
    "del s"
   ]
  },
  {
   "cell_type": "code",
   "execution_count": 61,
   "metadata": {
    "scrolled": true
   },
   "outputs": [
    {
     "name": "stdout",
     "output_type": "stream",
     "text": [
      "16397.0 20662.0 16398\n"
     ]
    },
    {
     "data": {
      "text/plain": [
       "<16398x20663 sparse matrix of type '<class 'numpy.float64'>'\n",
       "\twith 177140 stored elements in Compressed Sparse Column format>"
      ]
     },
     "execution_count": 61,
     "metadata": {},
     "output_type": "execute_result"
    }
   ],
   "source": [
    "# A matrix, affiliation matrix, links between users and groups\n",
    "# how many groups are there?\n",
    "a = get_adjacency_matrix(final_network_dict_norm, \"groups\", len(final_network_dict_norm), len(set([group for user in final_network_dict_norm for group in final_network_dict_norm[user][\"groups\"]])))\n",
    "a"
   ]
  },
  {
   "cell_type": "markdown",
   "metadata": {},
   "source": [
    "## Basioli funkcije"
   ]
  },
  {
   "cell_type": "code",
   "execution_count": 62,
   "metadata": {},
   "outputs": [],
   "source": [
    "def print_basic_stats(dataset, dataset_name):\n",
    "    print(dataset_name)\n",
    "    print(\"median:\", np.median(dataset), \"average:\", np.mean(dataset), \n",
    "            \"max:\", np.amax(dataset), \"minimum\", np.amin(dataset))\n",
    "\n",
    "def get_network_stats(users):\n",
    "    all_users = np.array(list(users.keys()))\n",
    "    user_link_count = np.array([len(users[user][\"links\"]) for user in all_users])\n",
    "    user_group_count = np.array([len(users[user][\"groups\"]) for user in all_users])\n",
    "\n",
    "    groups = np.unique(np.array([group for user in users for group in users[user][\"groups\"]]))\n",
    "    group_user_count = np.zeros(len(groups))\n",
    "    print(\"There are\",len(all_users), \"users and\", len(groups), \"groups.\")\n",
    "    # user count of groups[i] is located at group_user_count[i]\n",
    "    for user in users:\n",
    "        for group in users[user][\"groups\"]:\n",
    "            index, = np.where(groups == group)\n",
    "            if len(index) != 1: raise Exception(\"There are duplicates in your groups array. Check for error.\")\n",
    "            group_user_count[index[0]] += 1  # we can use group_user_count[group] here but this is more general\n",
    "\n",
    "    # sad za sve ovo neke statistike\n",
    "    fig1, axs1 = plt.subplots(1, 2, constrained_layout=True, squeeze=True)\n",
    "    axs1[0].boxplot(user_link_count)\n",
    "    axs1[0].set_title(\"User link boxplot\")\n",
    "    axs1[1].hist(user_link_count)\n",
    "    axs1[1].set_title(\"User link histogram\")\n",
    "    print_basic_stats(user_link_count, \"User link count\")\n",
    "    \n",
    "    fig2, axs2 = plt.subplots(1, 2, constrained_layout=True, squeeze=True)\n",
    "    axs2[0].boxplot(user_group_count)\n",
    "    axs2[0].set_title(\"User group boxplot\")\n",
    "    axs2[1].hist(user_group_count)\n",
    "    axs2[1].set_title(\"User group histogram\")\n",
    "    print_basic_stats(user_group_count, \"User group count\")\n",
    "\n",
    "    fig3, axs3 = plt.subplots(1, 2, constrained_layout=True, squeeze=True)\n",
    "    axs3[0].boxplot(group_user_count)\n",
    "    axs3[0].set_title(\"Group user boxplot\")\n",
    "    axs3[1].hist(group_user_count)\n",
    "    axs3[1].set_title(\"Group user histogram\")\n",
    "    print_basic_stats(group_user_count, \"Group user count\")\n",
    "\n",
    "    plt.show()\n",
    "\n",
    "def print_matrix_to_file(matrix, output):\n",
    "    with open(output, \"w\") as output:\n",
    "        for i, row in enumerate(matrix):\n",
    "            for j, el in enumerate(row):\n",
    "                if el == 1:\n",
    "                    output.write(str(i+1) + \" \" + str(j+1) + \"\\n\")"
   ]
  },
  {
   "cell_type": "markdown",
   "metadata": {},
   "source": [
    "## Split data into training and testing"
   ]
  },
  {
   "cell_type": "code",
   "execution_count": 63,
   "metadata": {},
   "outputs": [],
   "source": [
    "a_train = a.toarray()\n",
    "for row in a_train:\n",
    "    ones = np.transpose(row.nonzero())\n",
    "    indices = np.random.randint(len(ones), size = round( len(ones)*0.1))\n",
    "    row[ones[indices]] = 0\n",
    "a_train = csc_matrix(a_train)\n",
    "a_test = a - a_train"
   ]
  },
  {
   "cell_type": "code",
   "execution_count": 64,
   "metadata": {},
   "outputs": [],
   "source": [
    "#uzme mi sav ram pa idemo ovako\n",
    "save_npz(\"data/yt_a_test.npz\", csc_matrix(a_test))\n",
    "del a_test"
   ]
  },
  {
   "cell_type": "code",
   "execution_count": 65,
   "metadata": {},
   "outputs": [],
   "source": [
    "a_train = a_train.toarray()\n",
    "for row in a_train:\n",
    "    ones = np.transpose(row.nonzero())\n",
    "    indices = np.random.randint(len(ones), size = round( len(ones)*0.2))\n",
    "    row[ones[indices]]=0\n",
    "a_train = csc_matrix(a_train)\n",
    "a_val = a - a_train\n",
    "\n",
    "save_npz(\"data/yt_a_train.npz\", csc_matrix(a_train))\n",
    "save_npz(\"data/yt_a.npz\", a)\n",
    "\n",
    "del a_train\n",
    "del a"
   ]
  },
  {
   "cell_type": "code",
   "execution_count": 66,
   "metadata": {},
   "outputs": [],
   "source": [
    "a_test = load_npz(\"data/yt_a_test.npz\")\n",
    "a_val = a_val - a_test\n",
    "del a_test"
   ]
  },
  {
   "cell_type": "code",
   "execution_count": 67,
   "metadata": {},
   "outputs": [],
   "source": [
    "save_npz(\"data/yt_a_val.npz\", csc_matrix(a_val))"
   ]
  },
  {
   "cell_type": "code",
   "execution_count": null,
   "metadata": {},
   "outputs": [],
   "source": [
    "#uzasno dugo traje\n",
    "data_path = [(a_train, \"data/random_katz/yt_a_train.txt\"), (a_val.toarray(), \"data/random_katz/yt_a_val.txt\"), \n",
    "             (a_test.toarray(), \"data/random_katz/yt_a_test.txt\"), (a.toarray(), \"data/random_katz/yt_a.txt\"),\n",
    "            (s.toarray(), \"data/random_katz/yt_s.txt\")]\n",
    "\n",
    "for data, path in tqdm(data_path):\n",
    "    print_matrix_to_file(data, path)"
   ]
  }
 ],
 "metadata": {
  "kernelspec": {
   "display_name": "Python 3",
   "language": "python",
   "name": "python3"
  },
  "language_info": {
   "codemirror_mode": {
    "name": "ipython",
    "version": 3
   },
   "file_extension": ".py",
   "mimetype": "text/x-python",
   "name": "python",
   "nbconvert_exporter": "python",
   "pygments_lexer": "ipython3",
   "version": "3.8.5"
  }
 },
 "nbformat": 4,
 "nbformat_minor": 4
}
