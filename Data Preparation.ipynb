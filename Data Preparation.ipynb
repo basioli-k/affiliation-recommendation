{
 "cells": [
  {
   "cell_type": "markdown",
   "metadata": {},
   "source": [
    "## UPOZORENJA\n",
    "- ćelija za učitavanje podataka treba malo više vremena (get_user_data), pozvati jednom i nakon toga zakomentirati"
   ]
  },
  {
   "cell_type": "markdown",
   "metadata": {},
   "source": [
    "## TODO-ovi\n",
    "- smisliti kako ćemo odabrati bolji dio podataka"
   ]
  },
  {
   "cell_type": "code",
   "execution_count": 62,
   "metadata": {},
   "outputs": [],
   "source": [
    "import numpy as np\n",
    "import scipy\n",
    "from scipy.sparse import csc_matrix, bmat, save_npz\n",
    "from scipy.sparse.linalg import svds\n",
    "import matplotlib.pyplot as plt\n",
    "from tqdm import tqdm\n",
    "import random\n",
    "import copy"
   ]
  },
  {
   "cell_type": "markdown",
   "metadata": {},
   "source": [
    "## Data preparation\n",
    "- reading user data from given files (we are considering only users that are in some group here)\n",
    "- random sample of filtered users\n",
    "- normalizing user data (renaming users to elements of $\\{0, ..., n-1\\}$)"
   ]
  },
  {
   "cell_type": "code",
   "execution_count": 2,
   "metadata": {},
   "outputs": [],
   "source": [
    "def normalize_users(users):\n",
    "    usrs = list(set(users.keys()).union(set([link  for key in users for link in users[key][\"links\"] ])))\n",
    "    groups = list(set([group for key in users for group in users[key][\"groups\"] ]))\n",
    "    normalized_users = {}\n",
    "    for user in users:\n",
    "        normalized_users[usrs.index(user)] = {}\n",
    "        normalized_users[usrs.index(user)][\"links\"] = [usrs.index(link) for link in users[user][\"links\"]]\n",
    "        normalized_users[usrs.index(user)][\"groups\"] = [groups.index(group) for group in users[user][\"groups\"]]\n",
    "    return normalized_users    "
   ]
  },
  {
   "cell_type": "code",
   "execution_count": 84,
   "metadata": {},
   "outputs": [],
   "source": [
    "def filter_users(user_number, all_users):\n",
    "    # add any additional filters here if needed (ex. at least 2 groups and 3 links)\n",
    "    \n",
    "    # filters like this will work only if set for groups because in the next step we are \n",
    "    # filtering links that aren't in our subgraph\n",
    "    users = copy.deepcopy(all_users)\n",
    "    print(\"Number of users in full dataset : \" + str(len(users)))\n",
    "    users = {user: users[user] for user in users if len(users[user][\"links\"]) >= 3 and len(users[user][\"groups\"]) >= 4}\n",
    "    print(\"Number of users in filtered dataset : \" + str(len(users)))\n",
    "    \n",
    "    keys = random.sample(users.keys(), user_number)\n",
    "    users = {key: users[key] for key in keys}\n",
    "    \n",
    "    #first eliminate any links that remained in the graph and shouldn't be there\n",
    "    for user in users:\n",
    "        users[user][\"links\"] = list(filter(lambda link: link in users.keys(), users[user][\"links\"]))\n",
    "        \n",
    "    return normalize_users(users)"
   ]
  },
  {
   "cell_type": "code",
   "execution_count": 4,
   "metadata": {},
   "outputs": [],
   "source": [
    "def get_user_data(links_path, groups_path):\n",
    "    # return all user data where every user is in at least one group\n",
    "    links = np.loadtxt(links_path)\n",
    "    groups = np.loadtxt(groups_path)\n",
    "    users = {} # key is user, value is dict containing all of his links and all of his groups\n",
    "    \n",
    "    for edge in groups:\n",
    "        if edge[0] not in users:\n",
    "            users[edge[0]] = { \"links\": [], \"groups\":[] }\n",
    "        users[edge[0]][\"groups\"].append(edge[1])\n",
    "        \n",
    "    for link in links:\n",
    "        if link[0] in users:\n",
    "            users[link[0]][\"links\"].append(link[1])\n",
    "        if link[1] in users:\n",
    "            users[link[1]][\"links\"].append(link[0])\n",
    "    \n",
    "    return users"
   ]
  },
  {
   "cell_type": "code",
   "execution_count": 5,
   "metadata": {},
   "outputs": [],
   "source": [
    "def get_adjacency_matrix(users, key, row_num, col_num):\n",
    "    # constructs adjacency matrix\n",
    "    # rows are indexed by user\n",
    "    # cols are indexed based on the key\n",
    "    row = np.array([])\n",
    "    column = np.array([])\n",
    "    value = np.array([])\n",
    "    \n",
    "    for user in users:\n",
    "        for element in users[user][key]:\n",
    "            row = np.append(row, user)\n",
    "            column = np.append(column, element)\n",
    "            value = np.append(value, 1)\n",
    "    \n",
    "    s = csc_matrix((value, (row, column)), shape = (row_num, col_num))\n",
    "    return s"
   ]
  },
  {
   "cell_type": "code",
   "execution_count": 66,
   "metadata": {
    "scrolled": true
   },
   "outputs": [
    {
     "name": "stdout",
     "output_type": "stream",
     "text": [
      "CPU times: user 27.8 s, sys: 112 ms, total: 27.9 s\n",
      "Wall time: 27.8 s\n"
     ]
    }
   ],
   "source": [
    "# load data\n",
    "# this takes some time so comment it out after first run\n",
    "%time all_users = get_user_data(\"data/release-youtube-links.txt\", \"data/release-youtube-groupmemberships.txt\")"
   ]
  },
  {
   "cell_type": "code",
   "execution_count": 73,
   "metadata": {},
   "outputs": [],
   "source": [
    "# number of users\n",
    "# WARNING: small number of users will usually result in a small number of links between users\n",
    "k = 15000"
   ]
  },
  {
   "cell_type": "code",
   "execution_count": 85,
   "metadata": {},
   "outputs": [
    {
     "name": "stdout",
     "output_type": "stream",
     "text": [
      "Number of users in full dataset : 94238\n",
      "Number of users in filtered dataset : 16077\n"
     ]
    }
   ],
   "source": [
    "# quickly gets a filtered subset of users\n",
    "filtered_users = filter_users(k, all_users)"
   ]
  },
  {
   "cell_type": "code",
   "execution_count": 77,
   "metadata": {},
   "outputs": [
    {
     "data": {
      "text/plain": [
       "<15000x15000 sparse matrix of type '<class 'numpy.float64'>'\n",
       "\twith 164752 stored elements in Compressed Sparse Column format>"
      ]
     },
     "execution_count": 77,
     "metadata": {},
     "output_type": "execute_result"
    }
   ],
   "source": [
    "# S matrix, matrix of links between users\n",
    "s = get_adjacency_matrix(filtered_users, \"links\", len(filtered_users), len(filtered_users))\n",
    "s"
   ]
  },
  {
   "cell_type": "code",
   "execution_count": 78,
   "metadata": {
    "scrolled": true
   },
   "outputs": [
    {
     "data": {
      "text/plain": [
       "<15000x20616 sparse matrix of type '<class 'numpy.float64'>'\n",
       "\twith 157577 stored elements in Compressed Sparse Column format>"
      ]
     },
     "execution_count": 78,
     "metadata": {},
     "output_type": "execute_result"
    }
   ],
   "source": [
    "# A matrix, affiliation matrix, links between users and groups\n",
    "# how many groups are there?\n",
    "a = get_adjacency_matrix(filtered_users, \"groups\", len(filtered_users), len(set([group for user in filtered_users for group in filtered_users[user][\"groups\"]])))\n",
    "a"
   ]
  },
  {
   "cell_type": "markdown",
   "metadata": {},
   "source": [
    "## Split data into training and testing"
   ]
  },
  {
   "cell_type": "code",
   "execution_count": 79,
   "metadata": {},
   "outputs": [],
   "source": [
    "\"pogledaj sve indekse (i,j) gdje je A[i,j] = 1 i uzmi random 30% takvih\"\n",
    "a = a.toarray()\n",
    "ones = np.transpose(a.nonzero())\n",
    "indices = np.random.randint(ones.shape[0], size = int(ones.shape[0]*0.3))"
   ]
  },
  {
   "cell_type": "code",
   "execution_count": 80,
   "metadata": {},
   "outputs": [],
   "source": [
    "\"za test spremi citavu a, za trening izbaci onih 30%\"\n",
    "a_test = csc_matrix(a)\n",
    "for i in range(len(indices)):\n",
    "    a[ones[indices][i][0], ones[indices][i][1]] = 0\n",
    "a_train = csc_matrix(a)"
   ]
  },
  {
   "cell_type": "code",
   "execution_count": 86,
   "metadata": {},
   "outputs": [
    {
     "data": {
      "text/plain": [
       "<15000x20616 sparse matrix of type '<class 'numpy.float64'>'\n",
       "\twith 157577 stored elements in Compressed Sparse Column format>"
      ]
     },
     "execution_count": 86,
     "metadata": {},
     "output_type": "execute_result"
    }
   ],
   "source": [
    "\"testni podaci\"\n",
    "a_test"
   ]
  },
  {
   "cell_type": "code",
   "execution_count": 87,
   "metadata": {},
   "outputs": [
    {
     "data": {
      "text/plain": [
       "<15000x20616 sparse matrix of type '<class 'numpy.float64'>'\n",
       "\twith 116646 stored elements in Compressed Sparse Column format>"
      ]
     },
     "execution_count": 87,
     "metadata": {},
     "output_type": "execute_result"
    }
   ],
   "source": [
    "\"trening podaci\"\n",
    "a_train"
   ]
  },
  {
   "cell_type": "code",
   "execution_count": 88,
   "metadata": {},
   "outputs": [],
   "source": [
    "save_npz(\"data/s.npz\", s)\n",
    "save_npz(\"data/a_train.npz\", a_train)\n",
    "save_npz(\"data/a_test.npz\", a_test)"
   ]
  }
 ],
 "metadata": {
  "kernelspec": {
   "display_name": "Python 3",
   "language": "python",
   "name": "python3"
  },
  "language_info": {
   "codemirror_mode": {
    "name": "ipython",
    "version": 3
   },
   "file_extension": ".py",
   "mimetype": "text/x-python",
   "name": "python",
   "nbconvert_exporter": "python",
   "pygments_lexer": "ipython3",
   "version": "3.8.5"
  }
 },
 "nbformat": 4,
 "nbformat_minor": 4
}
